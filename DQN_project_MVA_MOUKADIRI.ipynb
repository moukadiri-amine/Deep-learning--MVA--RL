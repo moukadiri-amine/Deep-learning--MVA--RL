{
 "cells": [
  {
   "cell_type": "markdown",
   "metadata": {
    "colab_type": "text",
    "id": "dYLnfGuoBkb6"
   },
   "source": [
    "**You may need to install [OpenCV](https://pypi.python.org/pypi/opencv-python) and [scikit-video](http://www.scikit-video.org/stable/).**"
   ]
  },
  {
   "cell_type": "code",
   "execution_count": 1,
   "metadata": {
    "colab": {
     "base_uri": "https://localhost:8080/",
     "height": 175
    },
    "colab_type": "code",
    "id": "E-PJzdfKBosU",
    "outputId": "c34c43da-0b64-4a0b-e42b-10e99c805cba"
   },
   "outputs": [
    {
     "name": "stdout",
     "output_type": "stream",
     "text": [
      "Collecting scikit-video\n",
      "\u001b[?25l  Downloading https://files.pythonhosted.org/packages/b1/a6/c69cad508139a342810ae46e946ebb3256aa6e42f690d901bb68f50582e3/scikit_video-1.1.11-py2.py3-none-any.whl (2.3MB)\n",
      "\u001b[K     |████████████████████████████████| 2.3MB 2.9MB/s \n",
      "\u001b[?25hRequirement already satisfied: numpy in /usr/local/lib/python3.6/dist-packages (from scikit-video) (1.17.5)\n",
      "Requirement already satisfied: pillow in /usr/local/lib/python3.6/dist-packages (from scikit-video) (6.2.2)\n",
      "Requirement already satisfied: scipy in /usr/local/lib/python3.6/dist-packages (from scikit-video) (1.4.1)\n",
      "Installing collected packages: scikit-video\n",
      "Successfully installed scikit-video-1.1.11\n"
     ]
    }
   ],
   "source": [
    "!pip3 install scikit-video"
   ]
  },
  {
   "cell_type": "code",
   "execution_count": 0,
   "metadata": {
    "colab": {},
    "colab_type": "code",
    "id": "GVddKmqIBkb8"
   },
   "outputs": [],
   "source": [
    "import keras\n",
    "import numpy as np\n",
    "import io\n",
    "import base64\n",
    "from IPython.display import HTML\n",
    "import skvideo.io\n",
    "import cv2\n",
    "import json\n",
    "\n",
    "from keras.models import Sequential,model_from_json\n",
    "from keras.layers.core import Dense\n",
    "from keras.optimizers import sgd\n",
    "from keras.layers import Conv2D, MaxPooling2D, Activation, AveragePooling2D,Reshape,BatchNormalization\n",
    "from keras.layers import Dropout,Flatten"
   ]
  },
  {
   "cell_type": "markdown",
   "metadata": {
    "colab_type": "text",
    "id": "wjz9f9KLBkcB"
   },
   "source": [
    "# MiniProject on Deep Reinforcement Learning"
   ]
  },
  {
   "cell_type": "markdown",
   "metadata": {
    "colab_type": "text",
    "id": "WizTiyccBkcC"
   },
   "source": [
    "__Notations__: $E_p$ is the expectation under probability $p$. Please justify each of your answer and widely comment your code."
   ]
  },
  {
   "cell_type": "markdown",
   "metadata": {
    "colab_type": "text",
    "id": "7Aj-foKGBkcC"
   },
   "source": [
    "# Context"
   ]
  },
  {
   "cell_type": "markdown",
   "metadata": {
    "colab_type": "text",
    "id": "QR5MmgnDBkcD"
   },
   "source": [
    "In a reinforcement learning algorithm, we modelize each step $t$ as an action $a_t$ obtained from a state $s_t$, i.e. $\\{(a_{t},s_{t})_{t\\leq T}\\}$ having the Markov property. We consider a discount factor $\\gamma \\in [0,1]$ that ensures convergence. The goal is to find among all the policies $\\pi$, one that maximizes the expected reward:\n",
    "\n",
    "\\begin{equation*}\n",
    "R(\\pi)=\\sum_{t\\leq T}E_{p^{\\pi}}[\\gamma^t r(s_{t},a_{t})] \\> ,\n",
    "\\end{equation*}\n",
    "\n",
    "where: \n",
    "\\begin{equation*}p^{\\pi}(a_{0},a_{1},s_{1},...,a_{T},s_{T})=p(a_{0})\\prod_{t=1}^{T}\\pi(a_{t}|s_{t})p(s_{t+1}|s_{t},a_{t}) \\> .\n",
    "\\end{equation*}\n",
    "\n",
    "We note the $Q$-function:\n",
    "\n",
    "\\begin{equation*}Q^\\pi(s,a)=E_{p^{\\pi}}[\\sum_{t\\leq T}\\gamma^{t}r(s_{t},a_{t})|s_{0}=s,a_{0}=a] \\> .\n",
    "\\end{equation*}\n",
    "\n",
    "Thus, the optimal Q function is:\n",
    "\\begin{equation*}\n",
    "Q^*(s,a)=\\max_{\\pi}Q^\\pi(s,a) \\> .\n",
    "\\end{equation*}\n",
    "\n",
    "In this project, we will apply the deep reinforcement learning techniques to a simple game: an agent will have to learn from scratch a policy that will permit it maximizing a reward."
   ]
  },
  {
   "cell_type": "markdown",
   "metadata": {
    "colab_type": "text",
    "id": "p_X-YaIlBkcE"
   },
   "source": [
    "## The environment, the agent and the game"
   ]
  },
  {
   "cell_type": "markdown",
   "metadata": {
    "colab_type": "text",
    "id": "yz_I8PoXBkcF"
   },
   "source": [
    "### The environment"
   ]
  },
  {
   "cell_type": "markdown",
   "metadata": {
    "colab_type": "text",
    "id": "WhHs-nGFBkcG"
   },
   "source": [
    "```Environment``` is an abstract class that represents the states, rewards, and actions to obtain the new state."
   ]
  },
  {
   "cell_type": "code",
   "execution_count": 0,
   "metadata": {
    "colab": {},
    "colab_type": "code",
    "id": "DLA6FwXgBkcH"
   },
   "outputs": [],
   "source": [
    "class Environment(object):\n",
    "    def __init__(self):\n",
    "        pass\n",
    "\n",
    "    def act(self, act):\n",
    "        \"\"\"\n",
    "        One can act on the environment and obtain its reaction:\n",
    "        - the new state\n",
    "        - the reward of the new state\n",
    "        - should we continue the game?\n",
    "\n",
    "        :return: state, reward, game_over\n",
    "        \"\"\"\n",
    "        pass\n",
    "\n",
    "\n",
    "    def reset(self):\n",
    "        \"\"\"\n",
    "        Reinitialize the environment to a random state and returns\n",
    "        the original state\n",
    "\n",
    "        :return: state\n",
    "        \"\"\"\n",
    "        pass\n",
    "    \n",
    "    def draw(self):\n",
    "        \"\"\"\n",
    "        Visualize in the console or graphically the current state\n",
    "        \"\"\"\n",
    "        pass"
   ]
  },
  {
   "cell_type": "markdown",
   "metadata": {
    "colab_type": "text",
    "id": "FMqQvGSOBkcK"
   },
   "source": [
    "The method ```act``` allows to act on the environment at a given state $s_t$ (stored internally), via action $a_t$. The method will return the new state $s_{t+1}$, the reward $r(s_{t},a_{t})$ and determines if $t\\leq T$ (*game_over*).\n",
    "\n",
    "The method ```reset``` simply reinitializes the environment to a random state $s_0$.\n",
    "\n",
    "The method ```draw``` displays the current state $s_t$ (this is useful to check the behavior of the Agent).\n",
    "\n",
    "We modelize $s_t$ as a tensor, while $a_t$ is an integer."
   ]
  },
  {
   "cell_type": "markdown",
   "metadata": {
    "colab_type": "text",
    "id": "VdtZA3edBkcL"
   },
   "source": [
    "### The Agent"
   ]
  },
  {
   "cell_type": "markdown",
   "metadata": {
    "colab_type": "text",
    "id": "pnHNyGkoBkcM"
   },
   "source": [
    "The goal of the ```Agent``` is to interact with the ```Environment``` by proposing actions $a_t$ obtained from a given state $s_t$ to attempt to maximize its __reward__ $r(s_t,a_t)$. We propose the following abstract class:"
   ]
  },
  {
   "cell_type": "code",
   "execution_count": 0,
   "metadata": {
    "colab": {},
    "colab_type": "code",
    "id": "H4DfHY8pBkcM"
   },
   "outputs": [],
   "source": [
    "class Agent(object):\n",
    "    def __init__(self, epsilon=0.1, n_action=4):\n",
    "        self.epsilon = epsilon\n",
    "        self.n_action = n_action\n",
    "    \n",
    "    def set_epsilon(self,e):\n",
    "        self.epsilon = e\n",
    "\n",
    "    def act(self,s,train=True):\n",
    "        \"\"\" This function should return the next action to do:\n",
    "        an integer between 0 and 4 (not included) with a random exploration of epsilon\"\"\"\n",
    "        if train:\n",
    "            if np.random.rand() <= self.epsilon:\n",
    "                a = np.random.randint(0, self.n_action, size=1)[0]\n",
    "            else:\n",
    "                a = self.learned_act(s)\n",
    "        else: # in some cases, this can improve the performance.. remove it if poor performances\n",
    "            a = self.learned_act(s)\n",
    "\n",
    "        return a\n",
    "\n",
    "    def learned_act(self,s):\n",
    "        \"\"\" Act via the policy of the agent, from a given state s\n",
    "        it proposes an action a\"\"\"\n",
    "        pass\n",
    "\n",
    "    def reinforce(self, s, n_s, a, r, game_over_):\n",
    "        \"\"\" This function is the core of the learning algorithm. \n",
    "        It takes as an input the current state s_, the next state n_s_\n",
    "        the action a_ used to move from s_ to n_s_ and the reward r_.\n",
    "        \n",
    "        Its goal is to learn a policy.\n",
    "        \"\"\"\n",
    "        pass\n",
    "\n",
    "    def save(self):\n",
    "        \"\"\" This function returns basic stats if applicable: the\n",
    "        loss and/or the model\"\"\"\n",
    "        pass\n",
    "\n",
    "    def load(self):\n",
    "        \"\"\" This function allows to restore a model\"\"\"\n",
    "        pass"
   ]
  },
  {
   "cell_type": "markdown",
   "metadata": {
    "colab_type": "text",
    "id": "t_gfHqpfBkcP"
   },
   "source": [
    "***\n",
    "__Question 1__:\n",
    "Explain the function act. Why is ```epsilon``` essential?"
   ]
  },
  {
   "cell_type": "markdown",
   "metadata": {
    "colab_type": "text",
    "id": "SMDNDu7jBkcQ"
   },
   "source": [
    "> The function \"act\" decide the action to take to move from a state to another. \n",
    "\n",
    "> The epsilon help the algorithm to  explore new actions with a probability epsilon, it controls the explore -- exploit paradigm. If we set the epsilon to 0 the agent will always delect the optimal policy and won't explore new policies."
   ]
  },
  {
   "cell_type": "markdown",
   "metadata": {
    "colab_type": "text",
    "id": "0qWmcXpIBkcR"
   },
   "source": [
    "***\n",
    "### The Game"
   ]
  },
  {
   "cell_type": "markdown",
   "metadata": {
    "colab_type": "text",
    "id": "r1G44IKZBkcS"
   },
   "source": [
    "The ```Agent``` and the ```Environment``` work in an interlaced way as in the following (take some time to understand this code as it is the core of the project)\n",
    "\n",
    "```python\n",
    "\n",
    "epoch = 300\n",
    "env = Environment()\n",
    "agent = Agent()\n",
    "\n",
    "\n",
    "# Number of won games\n",
    "score = 0\n",
    "loss = 0\n",
    "\n",
    "\n",
    "for e in range(epoch):\n",
    "    # At each epoch, we restart to a fresh game and get the initial state\n",
    "    state = env.reset()\n",
    "    # This assumes that the games will end\n",
    "    game_over = False\n",
    "\n",
    "    win = 0\n",
    "    lose = 0\n",
    "    \n",
    "    while not game_over:\n",
    "        # The agent performs an action\n",
    "        action = agent.act(state)\n",
    "\n",
    "        # Apply an action to the environment, get the next state, the reward\n",
    "        # and if the games end\n",
    "        prev_state = state\n",
    "        state, reward, game_over = env.act(action)\n",
    "\n",
    "        # Update the counters\n",
    "        if reward > 0:\n",
    "            win = win + reward\n",
    "        if reward < 0:\n",
    "            lose = lose -reward\n",
    "\n",
    "        # Apply the reinforcement strategy\n",
    "        loss = agent.reinforce(prev_state, state,  action, reward, game_over)\n",
    "\n",
    "    # Save as a mp4\n",
    "    if e % 10 == 0:\n",
    "        env.draw(e)\n",
    "\n",
    "    # Update stats\n",
    "    score += win-lose\n",
    "\n",
    "    print(\"Epoch {:03d}/{:03d} | Loss {:.4f} | Win/lose count {}/{} ({})\"\n",
    "          .format(e, epoch, loss, win, lose, win-lose))\n",
    "    agent.save()\n",
    "```"
   ]
  },
  {
   "cell_type": "markdown",
   "metadata": {
    "colab_type": "text",
    "id": "60vyosR2BkcT"
   },
   "source": [
    "# The game, *eat cheese*"
   ]
  },
  {
   "cell_type": "markdown",
   "metadata": {
    "colab_type": "text",
    "id": "LPXW6cK5BkcU"
   },
   "source": [
    "A rat runs on an island and tries to eat as much as possible. The island is subdivided into $N\\times N$ cells, in which there are cheese (+0.5) and poisonous cells (-1). The rat has a visibility of 2 cells (thus it can see $5^2$ cells). The rat is given a time $T$ to accumulate as much food as possible. It can perform 4 actions: going up, down, left, right. \n",
    "\n",
    "The goal is to code an agent to solve this task that will learn by trial and error. We propose the following environment:"
   ]
  },
  {
   "cell_type": "code",
   "execution_count": 0,
   "metadata": {
    "colab": {},
    "colab_type": "code",
    "id": "3PzXYIuvBkcV"
   },
   "outputs": [],
   "source": [
    "class Environment(object):\n",
    "    def __init__(self, grid_size=10, max_time=500, temperature=0.1):\n",
    "        grid_size = grid_size+4\n",
    "        self.grid_size = grid_size\n",
    "        self.max_time = max_time\n",
    "        self.temperature = temperature\n",
    "\n",
    "        #board on which one plays\n",
    "        self.board = np.zeros((grid_size,grid_size))\n",
    "        self.position = np.zeros((grid_size,grid_size))\n",
    "\n",
    "        # coordinate of the cat\n",
    "        self.x = 0\n",
    "        self.y = 1\n",
    "\n",
    "        # self time\n",
    "        self.t = 0\n",
    "\n",
    "        self.scale=16\n",
    "\n",
    "        self.to_draw = np.zeros((max_time+2, grid_size*self.scale, grid_size*self.scale, 3))\n",
    "\n",
    "\n",
    "    def draw(self,e):\n",
    "        skvideo.io.vwrite(str(e) + '.mp4', self.to_draw)\n",
    "\n",
    "    def get_frame(self,t):\n",
    "        b = np.zeros((self.grid_size,self.grid_size,3))+128\n",
    "        b[self.board>0,0] = 256\n",
    "        b[self.board < 0, 2] = 256\n",
    "        b[self.x,self.y,:]=256\n",
    "        b[-2:,:,:]=0\n",
    "        b[:,-2:,:]=0\n",
    "        b[:2,:,:]=0\n",
    "        b[:,:2,:]=0\n",
    "        \n",
    "        b =  cv2.resize(b, None, fx=self.scale, fy=self.scale, interpolation=cv2.INTER_NEAREST)\n",
    "\n",
    "        self.to_draw[t,:,:,:]=b\n",
    "\n",
    "\n",
    "    def act(self, action):\n",
    "        \"\"\"This function returns the new state, reward and decides if the\n",
    "        game ends.\"\"\"\n",
    "\n",
    "        self.get_frame(int(self.t))\n",
    "\n",
    "        self.position = np.zeros((self.grid_size, self.grid_size))\n",
    "\n",
    "        self.position[0:2,:]= -1\n",
    "        self.position[:,0:2] = -1\n",
    "        self.position[-2:, :] = -1\n",
    "        self.position[-2:, :] = -1\n",
    "\n",
    "        self.position[self.x, self.y] = 1\n",
    "        if action == 0:\n",
    "            if self.x == self.grid_size-3:\n",
    "                self.x = self.x-1\n",
    "            else:\n",
    "                self.x = self.x + 1\n",
    "        elif action == 1:\n",
    "            if self.x == 2:\n",
    "                self.x = self.x+1\n",
    "            else:\n",
    "                self.x = self.x-1\n",
    "        elif action == 2:\n",
    "            if self.y == self.grid_size - 3:\n",
    "                self.y = self.y - 1\n",
    "            else:\n",
    "                self.y = self.y + 1\n",
    "        elif action == 3:\n",
    "            if self.y == 2:\n",
    "                self.y = self.y + 1\n",
    "            else:\n",
    "                self.y = self.y - 1\n",
    "        else:\n",
    "            RuntimeError('Error: action not recognized')\n",
    "\n",
    "        self.t = self.t + 1\n",
    "        reward = self.board[self.x, self.y]\n",
    "        self.board[self.x, self.y] = 0\n",
    "        game_over = self.t > self.max_time\n",
    "        state = np.concatenate((self.board.reshape(self.grid_size, self.grid_size,1),\n",
    "                        self.position.reshape(self.grid_size, self.grid_size,1)),axis=2)\n",
    "        state = state[self.x-2:self.x+3,self.y-2:self.y+3,:]\n",
    "\n",
    "        return state, reward, game_over\n",
    "\n",
    "    def reset(self):\n",
    "        \"\"\"This function resets the game and returns the initial state\"\"\"\n",
    "\n",
    "        self.x = np.random.randint(3, self.grid_size-3, size=1)[0]\n",
    "        self.y = np.random.randint(3, self.grid_size-3, size=1)[0]\n",
    "\n",
    "\n",
    "        bonus = 0.5*np.random.binomial(1,self.temperature,size=self.grid_size**2)\n",
    "        bonus = bonus.reshape(self.grid_size,self.grid_size)\n",
    "\n",
    "        malus = -1.0*np.random.binomial(1,self.temperature,size=self.grid_size**2)\n",
    "        malus = malus.reshape(self.grid_size, self.grid_size)\n",
    "\n",
    "        self.to_draw = np.zeros((self.max_time+2, self.grid_size*self.scale, self.grid_size*self.scale, 3))\n",
    "\n",
    "\n",
    "        malus[bonus>0]=0\n",
    "\n",
    "        self.board = bonus + malus\n",
    "\n",
    "        self.position = np.zeros((self.grid_size, self.grid_size))\n",
    "        self.position[0:2,:]= -1\n",
    "        self.position[:,0:2] = -1\n",
    "        self.position[-2:, :] = -1\n",
    "        self.position[-2:, :] = -1\n",
    "        self.board[self.x,self.y] = 0\n",
    "        self.t = 0\n",
    "\n",
    "        state = np.concatenate((\n",
    "                               self.board.reshape(self.grid_size, self.grid_size,1),\n",
    "                        self.position.reshape(self.grid_size, self.grid_size,1)),axis=2)\n",
    "\n",
    "        state = state[self.x - 2:self.x + 3, self.y - 2:self.y + 3, :]\n",
    "        return state"
   ]
  },
  {
   "cell_type": "markdown",
   "metadata": {
    "colab_type": "text",
    "id": "TwLzYQYtBkcX"
   },
   "source": [
    "The following elements are important because they correspond to the hyper parameters for this project:"
   ]
  },
  {
   "cell_type": "code",
   "execution_count": 0,
   "metadata": {
    "colab": {},
    "colab_type": "code",
    "id": "h3cUZl9YBkca"
   },
   "outputs": [],
   "source": [
    "# parameters\n",
    "size = 13\n",
    "T=200\n",
    "temperature=0.3\n",
    "epochs_train=100 # set small when debugging\n",
    "epochs_test=50 # set small when debugging\n",
    "\n",
    "# display videos\n",
    "def display_videos(name):\n",
    "    video = io.open(name, 'r+b').read()\n",
    "    encoded = base64.b64encode(video)\n",
    "    return '''<video alt=\"test\" controls>\n",
    "                <source src=\"data:video/mp4;base64,{0}\" type=\"video/mp4\" />\n",
    "             </video>'''.format(encoded.decode('ascii'))"
   ]
  },
  {
   "cell_type": "markdown",
   "metadata": {
    "colab_type": "text",
    "id": "PJUq9QmaBkcd"
   },
   "source": [
    "__Question 2__ Explain the use of the arrays ```position``` and ```board```."
   ]
  },
  {
   "cell_type": "markdown",
   "metadata": {
    "colab_type": "text",
    "id": "u7wzUEbCBkcd"
   },
   "source": [
    "> **position:** the position array is used to store the rate position. It is a grid that contains 2 columns and 2 lines in every border filled with -1, representing places where the rat is not allowed to go. It contains also 1 in the rat position and 0 elsewhere.\n",
    "\n",
    "> **board:** it is used to describe the environement at each step. It contains the possible rewards with values 0.5 and -1 for the poison and when the rat explore a cell it is set to 0"
   ]
  },
  {
   "cell_type": "markdown",
   "metadata": {
    "colab_type": "text",
    "id": "QT6tJjHLBkce"
   },
   "source": [
    "## Random Agent"
   ]
  },
  {
   "cell_type": "markdown",
   "metadata": {
    "colab_type": "text",
    "id": "nxs6Zp-KBkcf"
   },
   "source": [
    "***\n",
    "__Question 3__ Implement a random Agent (only ```learned_act``` needs to be implemented):"
   ]
  },
  {
   "cell_type": "code",
   "execution_count": 0,
   "metadata": {
    "colab": {},
    "colab_type": "code",
    "id": "WIyBwJLVBkcf"
   },
   "outputs": [],
   "source": [
    "class RandomAgent(Agent):\n",
    "    def __init__(self):\n",
    "        super(RandomAgent, self).__init__()\n",
    "        pass\n",
    "\n",
    "    def learned_act(self, s):\n",
    "        return np.random.randint(0,4)"
   ]
  },
  {
   "cell_type": "markdown",
   "metadata": {
    "colab_type": "text",
    "id": "9z9vFrBMBkci"
   },
   "source": [
    "***\n",
    "***\n",
    "__Question 4__ Visualize the game moves. You need to fill in the following function for the evaluation:"
   ]
  },
  {
   "cell_type": "code",
   "execution_count": 0,
   "metadata": {
    "colab": {},
    "colab_type": "code",
    "id": "ZraanVhjBkci"
   },
   "outputs": [],
   "source": [
    "def test(agent,env,epochs,prefix=''):\n",
    "    # Number of won games\n",
    "    score = 0\n",
    "        \n",
    "    for e in range(epochs):\n",
    "        state = env.reset()\n",
    "        game_over = False\n",
    "        win = 0\n",
    "        lose = 0\n",
    "        state = env.reset()\n",
    "        while not game_over:\n",
    "            # The agent performs an action\n",
    "            action = agent.learned_act(state)\n",
    "\n",
    "            # Apply an action to the environment, get the next state, the reward\n",
    "            # and if the games end\n",
    "            prev_state = state\n",
    "            state, reward, game_over = env.act(action)\n",
    "            \n",
    "            # Update the counters\n",
    "            if reward>0:\n",
    "                win += reward\n",
    "            else:\n",
    "                lose -= reward      \n",
    "\n",
    "        \n",
    "        # Save as a mp4\n",
    "        env.draw(prefix+str(e))\n",
    "\n",
    "        # Update stats\n",
    "        score = score + win-lose\n",
    "\n",
    "        print(\"Win/lose count {}/{}. Average score ({})\"\n",
    "              .format(win, lose, score/(1+e)))\n",
    "    print('Final score: '+str(score/epochs))"
   ]
  },
  {
   "cell_type": "code",
   "execution_count": 17,
   "metadata": {
    "colab": {
     "base_uri": "https://localhost:8080/",
     "height": 1000
    },
    "colab_type": "code",
    "id": "deo6TfE-Bkcl",
    "outputId": "0d2c610f-0f14-47ef-e380-4b72b9ed1c5d"
   },
   "outputs": [
    {
     "name": "stdout",
     "output_type": "stream",
     "text": [
      "Win/lose count 14.5/18.0. Average score (-3.5)\n",
      "Win/lose count 9.0/13.0. Average score (-3.75)\n",
      "Win/lose count 9.5/19.0. Average score (-5.666666666666667)\n",
      "Win/lose count 9.5/12.0. Average score (-4.875)\n",
      "Win/lose count 11.0/20.0. Average score (-5.7)\n",
      "Win/lose count 7.0/18.0. Average score (-6.583333333333333)\n",
      "Win/lose count 9.5/18.0. Average score (-6.857142857142857)\n",
      "Win/lose count 11.0/12.0. Average score (-6.125)\n",
      "Win/lose count 9.0/16.0. Average score (-6.222222222222222)\n",
      "Win/lose count 9.5/13.0. Average score (-5.95)\n",
      "Win/lose count 9.5/20.0. Average score (-6.363636363636363)\n",
      "Win/lose count 10.0/19.0. Average score (-6.583333333333333)\n",
      "Win/lose count 9.0/16.0. Average score (-6.615384615384615)\n",
      "Win/lose count 9.0/15.0. Average score (-6.571428571428571)\n",
      "Win/lose count 10.0/8.0. Average score (-6.0)\n",
      "Win/lose count 14.0/15.0. Average score (-5.6875)\n",
      "Win/lose count 16.0/12.0. Average score (-5.117647058823529)\n",
      "Win/lose count 7.0/9.0. Average score (-4.944444444444445)\n",
      "Win/lose count 13.5/17.0. Average score (-4.868421052631579)\n",
      "Win/lose count 11.0/11.0. Average score (-4.625)\n",
      "Win/lose count 8.0/13.0. Average score (-4.642857142857143)\n",
      "Win/lose count 9.0/8.0. Average score (-4.386363636363637)\n",
      "Win/lose count 14.5/12.0. Average score (-4.086956521739131)\n",
      "Win/lose count 5.5/17.0. Average score (-4.395833333333333)\n",
      "Win/lose count 7.5/10.0. Average score (-4.32)\n",
      "Win/lose count 8.0/11.0. Average score (-4.269230769230769)\n",
      "Win/lose count 13.5/10.0. Average score (-3.9814814814814814)\n",
      "Win/lose count 12.5/13.0. Average score (-3.857142857142857)\n",
      "Win/lose count 10.5/11.0. Average score (-3.7413793103448274)\n",
      "Win/lose count 6.0/11.0. Average score (-3.783333333333333)\n",
      "Win/lose count 8.0/11.0. Average score (-3.7580645161290325)\n",
      "Win/lose count 14.0/21.0. Average score (-3.859375)\n",
      "Win/lose count 11.0/17.0. Average score (-3.9242424242424243)\n",
      "Win/lose count 10.5/14.0. Average score (-3.911764705882353)\n",
      "Win/lose count 6.5/10.0. Average score (-3.9)\n",
      "Win/lose count 7.5/12.0. Average score (-3.9166666666666665)\n",
      "Win/lose count 14.5/13.0. Average score (-3.77027027027027)\n",
      "Win/lose count 6.5/6.0. Average score (-3.6578947368421053)\n",
      "Win/lose count 12.0/19.0. Average score (-3.7435897435897436)\n",
      "Win/lose count 9.5/8.0. Average score (-3.6125)\n",
      "Win/lose count 16.0/16.0. Average score (-3.524390243902439)\n",
      "Win/lose count 10.0/10.0. Average score (-3.4404761904761907)\n",
      "Win/lose count 13.0/19.0. Average score (-3.5)\n",
      "Win/lose count 10.0/22.0. Average score (-3.6931818181818183)\n",
      "Win/lose count 10.0/13.0. Average score (-3.6777777777777776)\n",
      "Win/lose count 10.5/12.0. Average score (-3.630434782608696)\n",
      "Win/lose count 11.5/15.0. Average score (-3.627659574468085)\n",
      "Win/lose count 11.0/11.0. Average score (-3.5520833333333335)\n",
      "Win/lose count 13.5/24.0. Average score (-3.693877551020408)\n",
      "Win/lose count 2.5/10.0. Average score (-3.77)\n",
      "Final score: -3.77\n"
     ]
    },
    {
     "data": {
      "text/html": [
       "<video alt=\"test\" controls>\n",
       "                <source src=\"data:video/mp4;base64,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\" type=\"video/mp4\" />\n",
       "             </video>"
      ],
      "text/plain": [
       "<IPython.core.display.HTML object>"
      ]
     },
     "execution_count": 17,
     "metadata": {
      "tags": []
     },
     "output_type": "execute_result"
    }
   ],
   "source": [
    "# Initialize the game\n",
    "env = Environment(grid_size=size, max_time=T,temperature=temperature)\n",
    "\n",
    "# Initialize the agent!\n",
    "agent = RandomAgent()\n",
    "\n",
    "test(agent,env,epochs_test,prefix='random')\n",
    "HTML(display_videos('random0.mp4'))"
   ]
  },
  {
   "cell_type": "markdown",
   "metadata": {
    "colab_type": "text",
    "id": "ZOwfjDVoBkco"
   },
   "source": [
    "***\n",
    "## DQN"
   ]
  },
  {
   "cell_type": "markdown",
   "metadata": {
    "colab_type": "text",
    "id": "qCubHACSBkcp"
   },
   "source": [
    "Let us assume here that $T=\\infty$.\n",
    "\n",
    "***\n",
    "__Question 5__ Let $\\pi$ be a policy, show that:\n",
    "\n",
    "\\begin{equation*}\n",
    "Q^{\\pi}(s,a)=E_{(s',a')\\sim p(.|s,a)}[r(s,a)+\\gamma Q^{\\pi}(s',a')]\n",
    "\\end{equation*}\n",
    "\n",
    "Then, show that for the optimal policy $\\pi^*$ (we assume its existence), the following holds: \n",
    "\n",
    "\\begin{equation*}\n",
    "Q^{*}(s,a)=E_{s'\\sim \\pi^*(.|s,a)}[r(s,a)+\\gamma\\max_{a'}Q^{*}(s',a')].\n",
    "\\end{equation*}\n",
    "Finally, deduce that a plausible objective is:\n",
    "\n",
    "\\begin{equation*}\n",
    "\\mathcal{L}(\\theta)=E_{s' \\sim \\pi^*(.|s,a)}\\Vert r+\\gamma\\max\\max_{a'}Q(s',a',\\theta)-Q(s,a,\\theta)\\Vert^{2}.\n",
    "\\end{equation*}\n",
    "\n",
    "\n"
   ]
  },
  {
   "cell_type": "markdown",
   "metadata": {
    "colab_type": "text",
    "id": "NugPBWSFBkcq"
   },
   "source": [
    "We know that:\n",
    "$$\n",
    "\\mathcal{Q}^{\\pi}(s,a)=E_{p^{\\pi}}[\\sum_{t=0}^{\\infty}\\gamma^{t}r(s_{t},a_{t})|s_{0}=s,a_{0}=a]\\\\\n",
    "$$\n",
    "Therefore:\n",
    "\\begin{equation*}\n",
    "\\mathcal{Q}^{\\pi}(s,a)=E_{p^{\\pi}}[r(s_0,a_0)+\\sum_{t=1}^{\\infty}\\gamma^{t}r(s_{t},a_{t})|s_{0}=s,a_{0}=a]\n",
    "\\end{equation*}\n",
    "\\begin{equation*}\n",
    "\\mathcal{Q}^{\\pi}(s,a)=E_{p^{\\pi}}[r(s_0,a_0)+\\gamma\\sum_{t=0}^{\\infty}\\gamma^{t}r(s_{t+1},a_{t+1}|s_{0}=s,a_{0}=a)]\\\\\n",
    "\\mathcal{Q}^{\\pi}(s,a)=E_{p^{\\pi}}[r(s_0,a_0)]+\\gamma E_{p^{\\pi}}[\\sum_{t=0}^{\\infty}\\gamma^{t}r(s_{t+1},a_{t+1})|s_{0}=s,a_{0}=a]\n",
    "\\end{equation*}\n",
    "\n",
    "Using Markov property:\n",
    "\n",
    "\\begin{equation*}\n",
    "\\mathcal{Q}^{\\pi}(s,a)=E_{p^{\\pi}}[r(s_{0},a_{0})]+\\gamma E_{(s',a')~p(.|s,a)}[\\sum_{t=0}^{\\infty}\\gamma^{t}r(s_{t+1},a_{t+1}|s_{1}=s',a_{1}=a')]\\\\\n",
    "\\end{equation*}\n",
    "\n",
    "\\begin{equation*}\n",
    "\\mathcal{Q}^{\\pi}(s,a)=E_{(s',a')\\sim p(.|s,a)}[r(s_{0},a_{0})]+\\gamma E_{(s',a')~p(.|s,a)}[\\sum_{t=0}^{\\infty}\n",
    "\\gamma^{t}r(s_{t},a_{t})|s_{0}=s',a_{0}=a']\\\\\n",
    "\\end{equation*}\n",
    "\n",
    "\\begin{equation*}\n",
    "\\mathcal{Q}^{\\pi}(s,a)=E_{(s',a')\\sim p(.|s,a)}[r(s,a)+\\gamma\\mathcal{Q}^{\\pi}(s',a')]\\\\\n",
    "\\end{equation*}\n",
    "\n",
    "Assuming that an optimal policy $\\pi^{\\ast}$ exists, the optimal Q function is defined as:\n",
    "\\begin{equation*}\n",
    "\\mathcal{Q}^{\\ast}(s,a)=max_{\\pi}\\mathcal{Q}^{\\pi}(s,a)\\\\\n",
    "\\mathcal{Q}^{\\ast}(s,a)=max_{\\pi}E_{(s',a')~p(.|s,a)}[r(s,a)+\\gamma\\mathcal{Q}^{\\pi}(s',a')]\\\\\n",
    "\\mathcal{Q}^{\\ast}(s,a)=E_{s'\\sim\\pi^{\\ast}(.|s,a)}[r(s,a)+\\gamma\\mathcal{Q}^{\\pi^{\\ast}}(s',a')]\\\\\n",
    "\\mathcal{Q}^{\\ast}(s,a)=E_{s'\\sim\\pi^{\\ast}(.|s,a)}[r(s,a)+\\gamma max_{a'}\\mathcal{Q}^{\\ast}(s',a')]\n",
    "\\end{equation*}\n",
    "\n",
    "A plausible loss function to minimize is:\n",
    "\\begin{equation*}\n",
    "\\mathcal{L}(\\theta)=E_{s'\\sim\\pi^{\\ast}(.|s,a)}((\\mathcal{Q}^{\\ast}(s,a,\\theta)-\\mathcal{Q}(s,a,\\theta))^{2})\\\\\n",
    "\\mathcal{L}(\\theta)=E_{s'\\sim\\pi^{\\ast}(.|s,a)}((r(s,a)+\\gamma max_{a'}\\mathcal{Q}^{\\ast}(s',a',\\theta)-\\mathcal{Q}(s,a,\\theta))^{2})\\\\\n",
    "\\mathcal{L}(\\theta)=E_{s'\\sim\\pi^{\\ast}(.|s,a)}||r+\\gamma max_{a'}\\mathcal{Q}(s',a',\\theta)-\\mathcal{Q}(s,a,\\theta)||^{2}\n",
    "\\end{equation*}"
   ]
  },
  {
   "cell_type": "markdown",
   "metadata": {
    "colab_type": "text",
    "id": "n5tb5JmQBkcq"
   },
   "source": [
    "***\n",
    "The DQN-learning algorithm relies on these derivations to train the parameters $\\theta$ of a Deep Neural Network:\n",
    "\n",
    "1. At the state $s_t$, select the action $a_t$ with best reward using $Q_t$ and store the results;\n",
    "\n",
    "2. Obtain the new state $s_{t+1}$ from the environment $p$;\n",
    "\n",
    "3. Store $(s_t,a_t,s_{t+1})$;\n",
    "\n",
    "4. Obtain $Q_{t+1}$ by minimizing  $\\mathcal{L}$ from a recovered batch from the previously stored results.\n",
    "\n",
    "***\n",
    "__Question 6__ Implement the class ```Memory``` that stores moves (in a replay buffer) via ```remember``` and provides a ```random_access``` to these. Specify a maximum memory size to avoid side effects. You can for example use a ```list()``` and set by default ```max_memory=100```."
   ]
  },
  {
   "cell_type": "code",
   "execution_count": 0,
   "metadata": {
    "colab": {},
    "colab_type": "code",
    "id": "AJEE-Mi8Bkcr"
   },
   "outputs": [],
   "source": [
    "class Memory(object):\n",
    "    def __init__(self, max_memory=100):\n",
    "        self.max_memory = max_memory\n",
    "        self.memory = list()\n",
    "\n",
    "    def remember(self, m):\n",
    "        self.memory.append(m)\n",
    "        if len(self.memory) > self.max_memory:\n",
    "            self.memory.pop(0)\n",
    "      \n",
    "\n",
    "    def random_access(self):\n",
    "        index = np.random.randint(0, len(self.memory))\n",
    "        return(self.memory[index])"
   ]
  },
  {
   "cell_type": "markdown",
   "metadata": {
    "colab_type": "text",
    "id": "Vl9xTIwUBkcu"
   },
   "source": [
    "***\n",
    "The pipeline we will use for training is given below:"
   ]
  },
  {
   "cell_type": "code",
   "execution_count": 0,
   "metadata": {
    "colab": {},
    "colab_type": "code",
    "id": "XF8PNGvdBkcu"
   },
   "outputs": [],
   "source": [
    "def train(agent,env,epoch,prefix=''):\n",
    "    # Number of won games\n",
    "    score = 0\n",
    "    loss = 0\n",
    "\n",
    "    for e in range(epoch):\n",
    "        # At each epoch, we restart to a fresh game and get the initial state\n",
    "        state = env.reset()\n",
    "        # This assumes that the games will terminate\n",
    "        game_over = False\n",
    "\n",
    "        win = 0\n",
    "        lose = 0\n",
    "\n",
    "        while not game_over:\n",
    "            # The agent performs an action\n",
    "            action = agent.act(state)\n",
    "\n",
    "            # Apply an action to the environment, get the next state, the reward\n",
    "            # and if the games end\n",
    "            prev_state = state\n",
    "            state, reward, game_over = env.act(action)\n",
    "\n",
    "            # Update the counters\n",
    "            if reward > 0:\n",
    "                win = win + reward\n",
    "            if reward < 0:\n",
    "                lose = lose -reward\n",
    "\n",
    "            # Apply the reinforcement strategy\n",
    "            loss = agent.reinforce(prev_state, state,  action, reward, game_over)\n",
    "\n",
    "        # Save as a mp4\n",
    "        if e % 10 == 0:\n",
    "            env.draw(prefix+str(e))\n",
    "\n",
    "        # Update stats\n",
    "        score += win-lose\n",
    "\n",
    "        print(\"Epoch {:03d}/{:03d} | Loss {:.4f} | Win/lose count {}/{} ({})\"\n",
    "              .format(e, epoch, loss, win, lose, win-lose))\n",
    "        agent.save(name_weights=prefix+'model.h5',name_model=prefix+'model.json')"
   ]
  },
  {
   "cell_type": "markdown",
   "metadata": {
    "colab_type": "text",
    "id": "jPts89vjBkcx"
   },
   "source": [
    "***\n",
    "__Question 7__ Implement the DQN training algorithm using a cascade of fully connected layers. You can use different learning rate, batch size or memory size parameters. In particular, the loss might oscillate while the player will start to win the games. You have to find a good criterium."
   ]
  },
  {
   "cell_type": "code",
   "execution_count": 0,
   "metadata": {
    "colab": {},
    "colab_type": "code",
    "id": "IyE2ERp2Bkcx"
   },
   "outputs": [],
   "source": [
    "class DQN(Agent):\n",
    "    def __init__(self, grid_size,  epsilon = 0.1, memory_size=100, batch_size = 16,n_state=2):\n",
    "        super(DQN, self).__init__(epsilon = epsilon)\n",
    "\n",
    "        # Discount for Q learning\n",
    "        self.discount = 0.99\n",
    "        \n",
    "        self.grid_size = grid_size\n",
    "        \n",
    "        # number of state\n",
    "        self.n_state = n_state\n",
    "\n",
    "        # Memory\n",
    "        self.memory = Memory(memory_size)\n",
    "        \n",
    "        # Batch size when learning\n",
    "        self.batch_size = batch_size\n",
    "\n",
    "    def learned_act(self, s):\n",
    "        return np.argmax(self.model.predict(np.expand_dims(s, 0)))\n",
    "\n",
    "    def reinforce(self, s_, n_s_, a_, r_, game_over_):\n",
    "        # Two steps: first memorize the states, second learn from the pool\n",
    "\n",
    "        self.memory.remember([s_, n_s_, a_, r_, game_over_])\n",
    "        \n",
    "        input_states = np.zeros((self.batch_size, 5,5,self.n_state))\n",
    "        target_q = np.zeros((self.batch_size, 4))\n",
    "        \n",
    "        for i in range(self.batch_size):\n",
    "            s_, n_s_, a_, r_, game_over_  = self.memory.random_access()\n",
    "            input_states[i] = s_\n",
    "            target_q[i] = self.model.predict(np.expand_dims(s_, axis = 0))\n",
    "            \n",
    "            if game_over_:\n",
    "                target_q[i][a_] = r_\n",
    "            else:\n",
    "                target_q[i][a_] = r_ + self.discount * np.max(self.model.predict(np.expand_dims(n_s_, axis = 0)))\n",
    "        ######## FILL IN\n",
    "        # HINT: Clip the target to avoid exploiding gradients.. -- clipping is a bit tighter\n",
    "        target_q = np.clip(target_q, -3, 3)\n",
    "\n",
    "        l = self.model.train_on_batch(input_states, target_q)\n",
    "\n",
    "\n",
    "        return l\n",
    "\n",
    "    def save(self,name_weights='model.h5',name_model='model.json'):\n",
    "        self.model.save_weights(name_weights, overwrite=True)\n",
    "        with open(name_model, \"w\") as outfile:\n",
    "            json.dump(self.model.to_json(), outfile)\n",
    "            \n",
    "    def load(self,name_weights='model.h5',name_model='model.json'):\n",
    "        with open(name_model, \"r\") as jfile:\n",
    "            model = model_from_json(json.load(jfile))\n",
    "        model.load_weights(name_weights)\n",
    "        model.compile(\"sgd\", \"mse\")\n",
    "        self.model = model\n",
    "\n",
    "            \n",
    "class DQN_FC(DQN):\n",
    "    def __init__(self, *args, lr=0.1,**kwargs):\n",
    "        super(DQN_FC, self).__init__( *args,**kwargs)\n",
    "        \n",
    "        # NN Model\n",
    "        model = Sequential()\n",
    "        model.add(Dense(64, input_shape=(5, 5, self.n_state), activation='relu'))\n",
    "        model.add(Dense(32, activation = \"relu\"))\n",
    "        model.add(Flatten())\n",
    "        model.add(Dense(4))\n",
    "        ####### FILL IN\n",
    "        \n",
    "        model.compile(sgd(lr=lr, decay=1e-4, momentum=0.0), \"mse\")\n",
    "        self.model = model\n",
    "        "
   ]
  },
  {
   "cell_type": "code",
   "execution_count": 24,
   "metadata": {
    "colab": {
     "base_uri": "https://localhost:8080/",
     "height": 1000
    },
    "colab_type": "code",
    "id": "PumbcDdiBkc0",
    "outputId": "00639098-c748-4b68-b4fb-ebbdbb77d7fb"
   },
   "outputs": [
    {
     "name": "stdout",
     "output_type": "stream",
     "text": [
      "WARNING:tensorflow:From /usr/local/lib/python3.6/dist-packages/keras/optimizers.py:793: The name tf.train.Optimizer is deprecated. Please use tf.compat.v1.train.Optimizer instead.\n",
      "\n",
      "WARNING:tensorflow:From /usr/local/lib/python3.6/dist-packages/keras/backend/tensorflow_backend.py:3005: The name tf.Session is deprecated. Please use tf.compat.v1.Session instead.\n",
      "\n",
      "WARNING:tensorflow:From /usr/local/lib/python3.6/dist-packages/keras/backend/tensorflow_backend.py:190: The name tf.get_default_session is deprecated. Please use tf.compat.v1.get_default_session instead.\n",
      "\n",
      "WARNING:tensorflow:From /usr/local/lib/python3.6/dist-packages/keras/backend/tensorflow_backend.py:197: The name tf.ConfigProto is deprecated. Please use tf.compat.v1.ConfigProto instead.\n",
      "\n",
      "WARNING:tensorflow:From /usr/local/lib/python3.6/dist-packages/keras/backend/tensorflow_backend.py:207: The name tf.global_variables is deprecated. Please use tf.compat.v1.global_variables instead.\n",
      "\n",
      "WARNING:tensorflow:From /usr/local/lib/python3.6/dist-packages/keras/backend/tensorflow_backend.py:216: The name tf.is_variable_initialized is deprecated. Please use tf.compat.v1.is_variable_initialized instead.\n",
      "\n",
      "WARNING:tensorflow:From /usr/local/lib/python3.6/dist-packages/keras/backend/tensorflow_backend.py:223: The name tf.variables_initializer is deprecated. Please use tf.compat.v1.variables_initializer instead.\n",
      "\n",
      "WARNING:tensorflow:From /usr/local/lib/python3.6/dist-packages/keras/backend/tensorflow_backend.py:1033: The name tf.assign_add is deprecated. Please use tf.compat.v1.assign_add instead.\n",
      "\n",
      "WARNING:tensorflow:From /usr/local/lib/python3.6/dist-packages/keras/backend/tensorflow_backend.py:1020: The name tf.assign is deprecated. Please use tf.compat.v1.assign instead.\n",
      "\n",
      "Epoch 000/100 | Loss 0.0149 | Win/lose count 3.0/6.0 (-3.0)\n",
      "Epoch 001/100 | Loss 0.0586 | Win/lose count 4.0/5.0 (-1.0)\n",
      "Epoch 002/100 | Loss 0.0086 | Win/lose count 1.0/2.0 (-1.0)\n",
      "Epoch 003/100 | Loss 0.0089 | Win/lose count 4.0/3.0 (1.0)\n",
      "Epoch 004/100 | Loss 0.0028 | Win/lose count 4.0/7.0 (-3.0)\n",
      "Epoch 005/100 | Loss 0.0086 | Win/lose count 6.5/7.0 (-0.5)\n",
      "Epoch 006/100 | Loss 0.0034 | Win/lose count 2.0/5.0 (-3.0)\n",
      "Epoch 007/100 | Loss 0.0676 | Win/lose count 7.0/4.0 (3.0)\n",
      "Epoch 008/100 | Loss 0.0055 | Win/lose count 10.5/5.0 (5.5)\n",
      "Epoch 009/100 | Loss 0.0038 | Win/lose count 3.5/3.0 (0.5)\n",
      "Epoch 010/100 | Loss 0.0030 | Win/lose count 10.0/6.0 (4.0)\n",
      "Epoch 011/100 | Loss 0.0057 | Win/lose count 11.0/2.0 (9.0)\n",
      "Epoch 012/100 | Loss 0.0592 | Win/lose count 1.5/3.0 (-1.5)\n",
      "Epoch 013/100 | Loss 0.0059 | Win/lose count 6.0/4.0 (2.0)\n",
      "Epoch 014/100 | Loss 0.0015 | Win/lose count 4.5/3.0 (1.5)\n",
      "Epoch 015/100 | Loss 0.0040 | Win/lose count 19.5/2.0 (17.5)\n",
      "Epoch 016/100 | Loss 0.0658 | Win/lose count 6.5/3.0 (3.5)\n",
      "Epoch 017/100 | Loss 0.0539 | Win/lose count 13.5/5.0 (8.5)\n",
      "Epoch 018/100 | Loss 0.0019 | Win/lose count 14.0/8.0 (6.0)\n",
      "Epoch 019/100 | Loss 0.0012 | Win/lose count 21.0/4.0 (17.0)\n",
      "Epoch 020/100 | Loss 0.0044 | Win/lose count 15.0/2.0 (13.0)\n",
      "Epoch 021/100 | Loss 0.0016 | Win/lose count 15.0/3.0 (12.0)\n",
      "Epoch 022/100 | Loss 0.0034 | Win/lose count 12.5/2.0 (10.5)\n",
      "Epoch 023/100 | Loss 0.0033 | Win/lose count 11.0/0 (11.0)\n",
      "Epoch 024/100 | Loss 0.0018 | Win/lose count 16.5/3.0 (13.5)\n",
      "Epoch 025/100 | Loss 0.0649 | Win/lose count 6.5/4.0 (2.5)\n",
      "Epoch 026/100 | Loss 0.0021 | Win/lose count 14.5/6.0 (8.5)\n",
      "Epoch 027/100 | Loss 0.0025 | Win/lose count 6.5/3.0 (3.5)\n",
      "Epoch 028/100 | Loss 0.0020 | Win/lose count 9.0/3.0 (6.0)\n",
      "Epoch 029/100 | Loss 0.0019 | Win/lose count 22.0/4.0 (18.0)\n",
      "Epoch 030/100 | Loss 0.0478 | Win/lose count 18.5/4.0 (14.5)\n",
      "Epoch 031/100 | Loss 0.0026 | Win/lose count 11.0/3.0 (8.0)\n",
      "Epoch 032/100 | Loss 0.0556 | Win/lose count 15.0/0 (15.0)\n",
      "Epoch 033/100 | Loss 0.0012 | Win/lose count 10.0/2.0 (8.0)\n",
      "Epoch 034/100 | Loss 0.0013 | Win/lose count 14.5/3.0 (11.5)\n",
      "Epoch 035/100 | Loss 0.0030 | Win/lose count 18.5/7.0 (11.5)\n",
      "Epoch 036/100 | Loss 0.0009 | Win/lose count 24.0/3.0 (21.0)\n",
      "Epoch 037/100 | Loss 0.0024 | Win/lose count 22.5/1.0 (21.5)\n",
      "Epoch 038/100 | Loss 0.0015 | Win/lose count 17.0/3.0 (14.0)\n",
      "Epoch 039/100 | Loss 0.0014 | Win/lose count 17.5/4.0 (13.5)\n",
      "Epoch 040/100 | Loss 0.0015 | Win/lose count 16.5/0 (16.5)\n",
      "Epoch 041/100 | Loss 0.0635 | Win/lose count 11.0/0 (11.0)\n",
      "Epoch 042/100 | Loss 0.0021 | Win/lose count 17.5/4.0 (13.5)\n",
      "Epoch 043/100 | Loss 0.0016 | Win/lose count 10.0/1.0 (9.0)\n",
      "Epoch 044/100 | Loss 0.0020 | Win/lose count 9.5/5.0 (4.5)\n",
      "Epoch 045/100 | Loss 0.0034 | Win/lose count 14.0/4.0 (10.0)\n",
      "Epoch 046/100 | Loss 0.0606 | Win/lose count 13.0/4.0 (9.0)\n",
      "Epoch 047/100 | Loss 0.0533 | Win/lose count 13.5/3.0 (10.5)\n",
      "Epoch 048/100 | Loss 0.0010 | Win/lose count 19.5/2.0 (17.5)\n",
      "Epoch 049/100 | Loss 0.0015 | Win/lose count 7.0/2.0 (5.0)\n",
      "Epoch 050/100 | Loss 0.0654 | Win/lose count 9.0/1.0 (8.0)\n",
      "Epoch 051/100 | Loss 0.0006 | Win/lose count 17.0/3.0 (14.0)\n",
      "Epoch 052/100 | Loss 0.0011 | Win/lose count 9.5/1.0 (8.5)\n",
      "Epoch 053/100 | Loss 0.0021 | Win/lose count 13.0/4.0 (9.0)\n",
      "Epoch 054/100 | Loss 0.0019 | Win/lose count 22.0/5.0 (17.0)\n",
      "Epoch 055/100 | Loss 0.0037 | Win/lose count 8.5/1.0 (7.5)\n",
      "Epoch 056/100 | Loss 0.0014 | Win/lose count 12.5/3.0 (9.5)\n",
      "Epoch 057/100 | Loss 0.0023 | Win/lose count 17.5/7.0 (10.5)\n",
      "Epoch 058/100 | Loss 0.0015 | Win/lose count 12.0/1.0 (11.0)\n",
      "Epoch 059/100 | Loss 0.0706 | Win/lose count 12.5/2.0 (10.5)\n",
      "Epoch 060/100 | Loss 0.0016 | Win/lose count 13.5/4.0 (9.5)\n",
      "Epoch 061/100 | Loss 0.0016 | Win/lose count 19.0/1.0 (18.0)\n",
      "Epoch 062/100 | Loss 0.0022 | Win/lose count 10.5/2.0 (8.5)\n",
      "Epoch 063/100 | Loss 0.0012 | Win/lose count 12.0/5.0 (7.0)\n",
      "Epoch 064/100 | Loss 0.0017 | Win/lose count 14.0/5.0 (9.0)\n",
      "Epoch 065/100 | Loss 0.0020 | Win/lose count 10.5/2.0 (8.5)\n",
      "Epoch 066/100 | Loss 0.0014 | Win/lose count 11.0/2.0 (9.0)\n",
      "Epoch 067/100 | Loss 0.0016 | Win/lose count 12.0/6.0 (6.0)\n",
      "Epoch 068/100 | Loss 0.0020 | Win/lose count 6.5/1.0 (5.5)\n",
      "Epoch 069/100 | Loss 0.0016 | Win/lose count 24.0/6.0 (18.0)\n",
      "Epoch 070/100 | Loss 0.0097 | Win/lose count 12.5/6.0 (6.5)\n",
      "Epoch 071/100 | Loss 0.0030 | Win/lose count 18.5/3.0 (15.5)\n",
      "Epoch 072/100 | Loss 0.0019 | Win/lose count 15.5/3.0 (12.5)\n",
      "Epoch 073/100 | Loss 0.0019 | Win/lose count 22.5/1.0 (21.5)\n",
      "Epoch 074/100 | Loss 0.0100 | Win/lose count 8.0/3.0 (5.0)\n",
      "Epoch 075/100 | Loss 0.0571 | Win/lose count 16.0/5.0 (11.0)\n",
      "Epoch 076/100 | Loss 0.0018 | Win/lose count 16.0/9.0 (7.0)\n",
      "Epoch 077/100 | Loss 0.0039 | Win/lose count 15.5/5.0 (10.5)\n",
      "Epoch 078/100 | Loss 0.0035 | Win/lose count 17.0/2.0 (15.0)\n",
      "Epoch 079/100 | Loss 0.0025 | Win/lose count 17.0/0 (17.0)\n",
      "Epoch 080/100 | Loss 0.0015 | Win/lose count 26.5/5.0 (21.5)\n",
      "Epoch 081/100 | Loss 0.0035 | Win/lose count 16.0/3.0 (13.0)\n",
      "Epoch 082/100 | Loss 0.0574 | Win/lose count 13.5/2.0 (11.5)\n",
      "Epoch 083/100 | Loss 0.0094 | Win/lose count 19.0/3.0 (16.0)\n",
      "Epoch 084/100 | Loss 0.0028 | Win/lose count 17.5/5.0 (12.5)\n",
      "Epoch 085/100 | Loss 0.0030 | Win/lose count 9.5/2.0 (7.5)\n",
      "Epoch 086/100 | Loss 0.0021 | Win/lose count 15.5/5.0 (10.5)\n",
      "Epoch 087/100 | Loss 0.0571 | Win/lose count 13.0/5.0 (8.0)\n",
      "Epoch 088/100 | Loss 0.0019 | Win/lose count 13.0/5.0 (8.0)\n",
      "Epoch 089/100 | Loss 0.0017 | Win/lose count 10.5/3.0 (7.5)\n",
      "Epoch 090/100 | Loss 0.0016 | Win/lose count 13.5/3.0 (10.5)\n",
      "Epoch 091/100 | Loss 0.0023 | Win/lose count 16.0/4.0 (12.0)\n",
      "Epoch 092/100 | Loss 0.0545 | Win/lose count 9.0/3.0 (6.0)\n",
      "Epoch 093/100 | Loss 0.0586 | Win/lose count 8.5/3.0 (5.5)\n",
      "Epoch 094/100 | Loss 0.0523 | Win/lose count 6.5/0 (6.5)\n",
      "Epoch 095/100 | Loss 0.0010 | Win/lose count 17.5/3.0 (14.5)\n",
      "Epoch 096/100 | Loss 0.0013 | Win/lose count 18.0/3.0 (15.0)\n",
      "Epoch 097/100 | Loss 0.0014 | Win/lose count 7.5/3.0 (4.5)\n",
      "Epoch 098/100 | Loss 0.0523 | Win/lose count 20.0/4.0 (16.0)\n",
      "Epoch 099/100 | Loss 0.0505 | Win/lose count 20.5/4.0 (16.5)\n"
     ]
    },
    {
     "data": {
      "text/html": [
       "<video alt=\"test\" controls>\n",
       "                <source src=\"data:video/mp4;base64,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\" type=\"video/mp4\" />\n",
       "             </video>"
      ],
      "text/plain": [
       "<IPython.core.display.HTML object>"
      ]
     },
     "execution_count": 24,
     "metadata": {
      "tags": []
     },
     "output_type": "execute_result"
    }
   ],
   "source": [
    "env = Environment(grid_size=size, max_time=T, temperature=0.3)\n",
    "agent = DQN_FC(size, lr=.1, epsilon = 0.1, memory_size=2000, batch_size = 32)\n",
    "train(agent, env, epochs_train, prefix='fc_train')\n",
    "HTML(display_videos('fc_train10.mp4'))"
   ]
  },
  {
   "cell_type": "code",
   "execution_count": 25,
   "metadata": {
    "colab": {
     "base_uri": "https://localhost:8080/",
     "height": 294
    },
    "colab_type": "code",
    "id": "HI3dEeG8OmtB",
    "outputId": "43e25f94-7d0f-4829-d387-36c330cfb426"
   },
   "outputs": [
    {
     "data": {
      "text/html": [
       "<video alt=\"test\" controls>\n",
       "                <source src=\"data:video/mp4;base64,AAAAIGZ0eXBpc29tAAACAGlzb21pc28yYXZjMW1wNDEAAAAIZnJlZQAAGYttZGF0AAACrQYF//+p3EXpvebZSLeWLNgg2SPu73gyNjQgLSBjb3JlIDE1MiByMjg1NCBlOWE1OTAzIC0gSC4yNjQvTVBFRy00IEFWQyBjb2RlYyAtIENvcHlsZWZ0IDIwMDMtMjAxNyAtIGh0dHA6Ly93d3cudmlkZW9sYW4ub3JnL3gyNjQuaHRtbCAtIG9wdGlvbnM6IGNhYmFjPTEgcmVmPTMgZGVibG9jaz0xOjA6MCBhbmFseXNlPTB4MToweDExMSBtZT1oZXggc3VibWU9NyBwc3k9MSBwc3lfcmQ9MS4wMDowLjAwIG1peGVkX3JlZj0xIG1lX3JhbmdlPTE2IGNocm9tYV9tZT0xIHRyZWxsaXM9MSA4eDhkY3Q9MCBjcW09MCBkZWFkem9uZT0yMSwxMSBmYXN0X3Bza2lwPTEgY2hyb21hX3FwX29mZnNldD00IHRocmVhZHM9MyBsb29rYWhlYWRfdGhyZWFkcz0xIHNsaWNlZF90aHJlYWRzPTAgbnI9MCBkZWNpbWF0ZT0xIGludGVybGFjZWQ9MCBibHVyYXlfY29tcGF0PTAgY29uc3RyYWluZWRfaW50cmE9MCBiZnJhbWVzPTMgYl9weXJhbWlkPTIgYl9hZGFwdD0xIGJfYmlhcz0wIGRpcmVjdD0xIHdlaWdodGI9MSBvcGVuX2dvcD0wIHdlaWdodHA9MiBrZXlpbnQ9MjUwIGtleWludF9taW49MjUgc2NlbmVjdXQ9NDAgaW50cmFfcmVmcmVzaD0wIHJjX2xvb2thaGVhZD00MCByYz1jcmYgbWJ0cmVlPTEgY3JmPTIzLjAgcWNvbXA9MC42MCBxcG1pbj0wIHFwbWF4PTY5IHFwc3RlcD00IGlwX3JhdGlvPTEuNDAgYXE9MToxLjAwAIAAAAL4ZYiEADf//vaH+BTZWBP+Wb/9DX/cj9uPrP1xYyEE31qvIejAGS+1H+b/rFFs6Z6UB/fgCJQAc24ZwpHZJ3jjhJSYReqPgUuAn34FNJkU+vl2k1sRHhvyFH3AQX+vjXc7FlBSs/aZBjaXGO979uSXvtw13HpQ15AlrO9ZfaPAjpCHSJiXjLsc1iM/orf41/oNIJdHphCUIx2qViGHXBWXJ5O8AtsuTUp1AumH5HRHXek++8iU6jKHl95BYdzdMsd4dBWr5Huu+IqwVxAqJ0DAQSloPjz9T//Xs4/wrAo5T8fJE8U50WRi+AFy0HkYCxWlXXamsBrq30K+XpH+pcVZAPDxXRgxnR6xF3kOczF7N8tS9vKrjt8sosOifiX5Q3PunTi8mHhd4SsZLkv2ziH+X//EQrbgAFe0uIAiIYP531EzxDaeA/OwEXER+XZvbYKeEvbJ1YRdn+/kV0exQPshq/33Aqisr43reQXMseUSA9hhAAASHp9WGO5RSkIzmeeTnyL4buiLmowANhpLQK/uod7WqXRgYtkrrGIqon8iWUzL5kA1do+SZIqnODutvmLr6YEdxsEw6haOT8ucCFIAAA1P8UQc71L0xH1BBzxjBdbzwTqyavzQzbSHwCZ6tEPNgAWXE84ubsRnXUdUgDUldJLS2mpew5mB/+pBwDDnKltBLUR52Q6nNrRspbSTnLeWB3Cl2XGeCXXvktQqpsRVGv2aHBbBgV8Q1tA/n9/V3uZcp/UHXROy3D1yr6Y6pSOL9lYBpjfUNsqbLkG6sRkUpVSjVovco2LPSUvAiuOr2wBs+Uqx710YddH7AOAolvpfCAN5JGCwnVGOg4nC1sP6+1i+v1RABzg1TQylzOeq+T6vHxKuxXfqASYHQy6sfyIRbYsdliGr3cmsExGOfun0gG6JfN8YUdUpLv4g99wjcUg88snZ5S/wNz4GxsJyuBYZ9bt80lldKAycC+MxuRacBhbYzu8rKC1yGM6HqxOxarLtMGBJDYADHwAAABpBmiRsQz/+nhAEEJc6bBel0EHYX37RluZSTgAAABBBnkJ4hf8Ao9rgNJTwX0+BAAAADgGeYXRCvwCW7jvPOLUHAAAAEAGeY2pCvwDcu3CbjPr0100AAAAcQZplSahBaJlMCG///qeEAdZQxqfel0CE/sxLwQAAABhBmoZJ4QpSZTAhv/6nhAYqhjU2pblwUYEAAAAZQZqpSeEOiZTAhv/+p4QGV32e98c01CCB8wAAABJBnsdFETwr/wIeR251kgS49IAAAAAOAZ7oakK/Ah9iF2sqyqoAAAAdQZrrSahBaJlMFPDf/qeEAfHon8el0ZrVMhI25D0AAAAQAZ8KakK/AWOlG80xVtG+4AAAABxBmw1J4QpSZTBSwz/+nhAEN+If4ol5zpsVAZ8wAAAADwGfLGpCvwDiA/qkUCVR0wAAABhBmy5J4Q6JlMCG//6nhACxe6nH+H1bbRsAAAAeQZtQSeEPJlMFFTwz//6eEAKh7pvcAOrc7riPqiFtAAAAEAGfb2pCvwCKyfOdaGF4vMAAAAAZQZtxSeEPJlMCG//+p4QAbH2D/CcFuhJqQAAAABlBm5JJ4Q8mUwIb//6nhABFvjp9RxoSHGBBAAAAHUGbtUnhDyZTAhv//qeEAC54rSCET/IUM5V+pWCAAAAAEkGf00URPCv/ACW7FdyYOwEwHgAAAA8Bn/RqQr8AJbs8tw2bVAMAAAAcQZv3SahBaJlMFPDP/p4QALr7pvcAOWPAPSwscAAAABABnhZqQr8AJrmjeaYq2njBAAAAGUGaGEnhClJlMCG//qeEAB8AeFOs6fdcI4EAAAAfQZo6SeEOiZTBTRMN//6nhAAyLq1TH+q3zHuvjrZTgAAAABABnllqQr8AKPY8tw2bU/CBAAAAHUGaXEnhDyZTBTwz//6eEADJ+vv1QjlPOXxFXRqYAAAAEAGee2pCvwAqFKN5piracsEAAAAZQZp9SeEPJlMCG//+p4QAIN8dPqONCQ5lQQAAABlBmp5J4Q8mUwIb//6nhAAVr3U/UcaEh03AAAAAH0GaoUnhDyZTAhv//qeEAA4gPCnWdPq17b3Z5aXU18AAAAASQZ7fRRE8K/8AC6WFdyYOwE3LAAAAEAGe4GpCvwALpY8tw2bVlYAAAAAfQZrlSahBaJlMCG///qeEABY/dTmgJmtvIPAmv77FgQAAABBBnwNFESwv/wANMH1hV4baAAAADwGfInRCvwAR4QB0JyYkwQAAABABnyRqQr8AEV2iE3GfXqW5AAAAGUGbJkmoQWyZTAhv//6nhAAWHFaQQif5bpsAAAAXQZtJSeEKUmUwIb/+p4QAFj91P1MAjS8AAAASQZ9nRTRMK/8AG6hpd3gU1GFAAAAADgGfiGpCvwAbolxnfhgKAAAAHUGbjEmoQWiZTAhn//6eEABWQfvkeD4CmfmWe1hfAAAAEkGfqkURLCv/ABHdohdhvpelaAAAAA8Bn8tqQr8AEd2iE4IHR6AAAAAZQZvNSahBbJlMCG///qeEACGoAs2xihLUwQAAAB9Bm+9J4QpSZTBRUsM//p4QANKvua45+j77yy/v5uJJAAAAEAGeDmpCvwAsVjy3DZtT34EAAAAZQZoQSeEOiZTAhv/+p4QANy6tHR9xswWDcAAAABlBmjFJ4Q8mUwIb//6nhAA3fsH+E4LdCWfAAAAAHUGaU0nhDyZTBRE8N//+p4QAI98dPtV5tURkZArdAAAAEAGecmpCvwAdAIBOvAFAIYAAAAAYQZp2SeEPJlMCG//+p4QADuewevZnwRbfAAAAEkGelEURPCv/AAxBHogFMA6BwQAAAA4BnrVqQr8ADEWJV1OoEwAAABxBmrhJqEFomUwU8N/+p4QAFhxWzE/1dvjT+RYZAAAAEAGe12pCvwAR3aITcZ9epWkAAAAcQZraSeEKUmUwUsM//p4QAH69cutjhs/EP8ZWYAAAABABnvlqQr8AGwduE3GfXqF1AAAAGkGa+0nhDomUwIZ//p4QAMjIY5/DnxA4f4UPAAAAGEGbHEnhDyZTAhv//qeEAE99E/1KQCqlQQAAAB5Bmz5J4Q8mUwURPDP//p4QATb4h/F0dzHOdNips90AAAAQAZ9dakK/AD+AvOdaGF5TwAAAABlBm19J4Q8mUwIb//6nhAAyfsH+E4LdCXHAAAAAGUGbYEnhDyZTAhv//qeEAB/fYP8JwW6E2UEAAAAeQZuCSeEPJlMFETw3//6nhAAfBHmfA291PwhnOJHAAAAAEAGfoWpCvwAZx24TcZ9eoc0AAAAcQZukSeEPJlMFPDf//qeEAC+urZif6u3xp/IjjAAAABABn8NqQr8AJrtEJuM+vT6ZAAAAGEGbxUnhDyZTAh3//qmWACUIsN0U4INVmQAAABxBm+lJ4Q8mUwIb//6nhACwejIerQv409vbb4rjAAAAEUGeB0URPC//AGmVc/fHaIX5AAAADwGeJnRCvwA8zYGuvi2kgAAAABABnihqQr8Ajuzxyv7cPqzAAAAAEkGaLUmoQWiZTAhv//6nhAABJwAAABNBnktFESwv/wCoJs5M24cEuY90AAAAEAGeanRCvwDiRVqvAiu2toAAAAAPAZ5sakK/AOID+qRQJVHTAAAAGkGabkmoQWyZTAhv//6nhAEMQBZttn2fNFTBAAAAHEGakEnhClJlMFFSw7/+qZYAiPx5/LtFfM1Ln+EAAAAQAZ6vakK/ANyR251oYXiQQAAAACFBmrRJ4Q6JlMCG//6nhAGwCGWv2u26eZZYmR24OebuIwIAAAARQZ7SRRU8L/8A7Scx2U1bILkAAAAQAZ7xdEK/ANLJoRPizFGvSAAAAA8BnvNqQr8BSI2u77vdwsAAAAAZQZr4SahBaJlMCG///qeEAP37B/nlQy7x9wAAABBBnxZFESwv/wCa0By8igPgAAAAEAGfNXRCvwDSgKZ5X5KbL0kAAAAPAZ83akK/AIsGgeTBFumBAAAAGkGbOkmoQWyZTBRMN//+p4QA/LAJ7e6n7Vn3AAAAEAGfWWpCvwDSu3CbjPr016UAAAAZQZtbSeEKUmUwId/+qZYAgPx50s6Op5FNwAAAAB1Bm39J4Q6JlMCG//6nhAGNxmqazbb/Zj9PtlyTNwAAABVBn51FETwv/wDiJ1GcP7iI/drHAosAAAAPAZ+8dEK/AM2AfFJtkqj/AAAAEAGfvmpCvwE22eOV/bh85UAAAAAeQZuhSahBaJlMFPDf/qeEBJIzNTZtczd4YCa/TKrZAAAAEAGfwGpCvwHsHg8mBr9lqYAAAAAYQZvDSeEKUmUwUsN//qeEBJVHREKtbErBAAAAEAGf4mpCvwHrsv1R8x+LYMAAAAAbQZvnSeEOiZTAhn/+nhAGC8Q/wbicviKssFbBAAAAEEGeBUUVPC//AOInUb2CKDkAAAAPAZ4kdEK/ATa0YuA/LP1hAAAAEAGeJmpCvwE2lkMPoCQcTPkAAAAZQZooSahBaJlMCGf//p4QA8vv7+RIj6whvQAAABhBmklJ4QpSZTAhn/6eEAJ98Q/tkMfWEVsAAAAYQZpqSeEOiZTAhn/+nhABnfX38iRH1hIPAAAAGEGai0nhDyZTAhn//p4QAQb4h/bIY+sJnwAAABhBmqxJ4Q8mUwIZ//6eEACte6b6KlZr4YIAAAAYQZrNSeEPJlMCGf/+nhAAbv19/IkR9YXpAAAAGEGa7knhDyZTAhn//p4QAEe+If2yGPrDgQAAABlBmw9J4Q8mUwIb//6nhAAMO6tIIRP8t7uBAAAAGEGbMknhDyZTAhn//p4QADDr7jQum+66/AAAAA9Bn1BFETwr/wAKO1uHFUAAAAAQAZ9xakK/AAodtbsVo+4zwQAAABhBm3NJqEFomUwIZ//+nhAAMT7+8JmamNgAAAAYQZuUSeEKUmUwIZ/+nhAAL/6+7tObuLscAAAAGEGbtUnhDomUwIZ//p4QAC6+6b6KlZr6DwAAABhBm9ZJ4Q8mUwIb//6nhAAHn9g9ezPgi/cAAAAZQZv3SeEPJlMCG//+p4QAB3PYP8JwW6F/QQAAABdBmhpJ4Q8mUwIZ//6eEAAc9CPHOb7HMQAAABJBnjhFETwr/wAGIduF2G+l7rgAAAAQAZ5ZakK/AAZIFjXvNK0qQQAAABlBmltJqEFomUwIb//+p4QAB3PYPXsz4Iv/AAAAGUGafEnhClJlMCG//qeEAAtXon+q3zH4ycEAAAAZQZqfSeEOiZTAhv/+p4QAEVQBZttn2fOSQQAAAA9Bnr1FETwr/wAOKD/mzOAAAAANAZ7eakK/AA4tgUDVCgAAACFBmsNJqEFomUwIZ//+nhAAaf193adI2C9CCIDL+5/6lz0AAAARQZ7hRREsL/8AD9/aFDILq8AAAAAQAZ8AdEK/ABYugHO2ONNi4QAAAA8BnwJqQr8AFZ5WBdf4M8AAAAAZQZsESahBbJlMCGf//p4QAGlX3GhdN91xHQAAABlBmyVJ4QpSZTAhv/6nhAAbH2D/CcFuhOpBAAAAGEGbRknhDomUwIb//qeEABHR8x5GJ/lu3wAAABlBm2lJ4Q8mUwIb//6nhAAR746fUcaEh13BAAAAEkGfh0URPCv/ABa8HXd4FNR1wAAAAA4Bn6hqQr8AFrbdeA2xOgAAABpBm6pJqEFomUwId//+qZYABePfV9diDcVYkQAAACZBm85J4QpSZTAh3/6plgADv+0v7Y7gPMsrVM34FKI8/ApmuWkqoAAAABVBn+xFNEwv/wAEdoEkVl2jp2sVwbAAAAAQAZ4LdEK/AAYgBTPK/JTpcQAAAA8Bng1qQr8ABDdiPJcz5ZsAAAAfQZoSSahBaJlMCHf//qmWAAK78pJ5/fN/lWdEC3GuJwAAABBBnjBFESwv/wADOKmhaignAAAADwGeT3RCvwAENtCAyS79gAAAABABnlFqQr8ABFc0bzTFW5bBAAAAK0GaVkmoQWyZTAhv//6nhAANP7t/Msrxhn4FMtnZ8ChSRyCza43q22I/YJYAAAAUQZ50RRUsL/8AB8U5pVh39BKoCbgAAAAPAZ6TdEK/AAR30ncGyXrnAAAAEAGelWpCvwAKzY8cr+3EP0AAAAAZQZqZSahBbJlMCG///qeEAA0/sHr2Z8EXCQAAABJBnrdFFSwr/wAQXp13d/SLVYEAAAAQAZ7YakK/ABBZPnOtDC+LgAAAAB1BmttJqEFsmUwUTDf//qeEAAzvsH+cp14Ua3Ml+QAAABABnvpqQr8ACoNfOdaGF+5AAAAAGUGa/EnhClJlMCG//qeEAAf32D/CcFuheEEAAAAYQZseSeEOiZTBTRMO//6plgABtPhR93DhAAAADwGfPWpCvwAEODWBdf5aQAAAABFBmyJJ4Q8mUwIb//6nhAABJwAAAAxBn0BFETwv/wAAsoEAAAAQAZ9/dEK/AAaayrur8d424AAAAA8Bn2FqQr8ABFXmiC1HmX8AAAASQZtmSahBaJlMCGf//p4QAAR8AAAADEGfhEURLC//AACygQAAABABn6N0Qr8ABprKu6vx3jbhAAAADwGfpWpCvwAEVeaILUeZfwAAABpBm6dJqEFsmUwIb//+p4QAB+zjP9VvmPxz4QAAAB5Bm8lJ4QpSZTBRUsN//qeEAAf32D+bS7mVmqa3PQUAAAAQAZ/oakK/AAaYjtzrQwwWQAAAABxBm+tJ4Q6JlMFEwz/+nhAAHZ9cutjhs/EP8cHhAAAAEAGeCmpCvwAGSduE3GfXrngAAAAYQZoMSeEPJlMCG//+p4QAB5/YPXsz4Iv3AAAAGUGaLUnhDyZTAhv//qeEAAdz2D/CcFuhf0EAAAAcQZpPSeEPJlMFETw3//6nhAAHPR5nwNvdT9s9gQAAABABnm5qQr8ABfnbhNxn1675AAAAG0GacUnhDyZTBTw3//6nhAARVAJmtwLfHTylUAAAABABnpBqQr8ADis8C6/txCfAAAAAG0GalUnhDyZTAhn//p4QAEO+If4xXcjdmwrdIQAAABVBnrNFETwv/wAQXHjpnFdTLz/jdrgAAAAQAZ7SdEK/ABa8tUDp2odVgAAAABABntRqQr8AFrbcirwBQE6BAAAAGkGa1kmoQWiZTAhv//6nhAALr7qfqONCQ8fAAAAAGUGa90nhClJlMCG//qeEAAdz2D/CcFuhf0EAAAAcQZsZSeEOiZTBTRMN//6nhAAHPR5nwNvdT9s9gQAAABABnzhqQr8ABfnbhNxn1674AAAAGUGbPEnhDyZTAhv//qeEAAdH2D/CcFuhgcEAAAASQZ9aRRE8K/8ACS9Ou7wKapGAAAAADgGfe2pCvwAJLK68BtrTAAAAF0GbfkmoQWiZTBTw3/6nhAAElQBZtvNxAAAADwGfnWpCvwADzV80OtIrgAAAABdBm4BJ4QpSZTBSw3/+p4QAAw7q0gynIAAAABABn79qQr8AA8KhvYrR92mBAAAAGUGboUnhDomUwIb//qeEAAc84z/Vb5j8eOAAAAAcQZvDSeEPJlMFFTw3//6nhAARVAJmtwLfHTylUQAAABABn+JqQr8ADis8C6/txCfAAAAAEUGb50nhDyZTAhn//p4QAAR9AAAAE0GeBUURPC//AA+G7fRYruLR9osAAAAQAZ4kdEK/ABYugHO2ONNi4QAAABABniZqQr8AFipRvNMVbVbhAAAAG0GaKUuoQhBaJEYIKAfyAf2HgFPCv/44QAARcAAAACUBnkhqQr8Cr2PtQcTdqsNJJuWqhgcstbvNKiNpCwUNf9O+ejzgAAALeG1vb3YAAABsbXZoZAAAAAAAAAAAAAAAAAAAA+gAAB+QAAEAAAEAAAAAAAAAAAAAAAABAAAAAAAAAAAAAAAAAAAAAQAAAAAAAAAAAAAAAAAAQAAAAAAAAAAAAAAAAAAAAAAAAAAAAAAAAAAAAAAAAAIAAAqidHJhawAAAFx0a2hkAAAAAwAAAAAAAAAAAAAAAQAAAAAAAB+QAAAAAAAAAAAAAAAAAAAAAAABAAAAAAAAAAAAAAAAAAAAAQAAAAAAAAAAAAAAAAAAQAAAAAEQAAABEAAAAAAAJGVkdHMAAAAcZWxzdAAAAAAAAAABAAAfkAAABAAAAQAAAAAKGm1kaWEAAAAgbWRoZAAAAAAAAAAAAAAAAAAAMgAAAZQAVcQAAAAAAC1oZGxyAAAAAAAAAAB2aWRlAAAAAAAAAAAAAAAAVmlkZW9IYW5kbGVyAAAACcVtaW5mAAAAFHZtaGQAAAABAAAAAAAAAAAAAAAkZGluZgAAABxkcmVmAAAAAAAAAAEAAAAMdXJsIAAAAAEAAAmFc3RibAAAAJVzdHNkAAAAAAAAAAEAAACFYXZjMQAAAAAAAAABAAAAAAAAAAAAAAAAAAAAAAEQARAASAAAAEgAAAAAAAAAAQAAAAAAAAAAAAAAAAAAAAAAAAAAAAAAAAAAAAAAAAAAABj//wAAAC9hdmNDAfQADf/hABdn9AANkZsoIhHQgAAAAwCAAAAZB4oUywEABWjr48RIAAAAGHN0dHMAAAAAAAAAAQAAAMoAAAIAAAAAFHN0c3MAAAAAAAAAAQAAAAEAAAVQY3R0cwAAAAAAAACoAAAAAQAABAAAAAABAAAKAAAAAAEAAAQAAAAAAQAAAAAAAAABAAACAAAAAAIAAAQAAAAAAQAACAAAAAACAAACAAAAAAEAAAYAAAAAAQAAAgAAAAABAAAGAAAAAAEAAAIAAAAAAQAABAAAAAABAAAGAAAAAAEAAAIAAAAAAgAABAAAAAABAAAIAAAAAAIAAAIAAAAAAQAABgAAAAABAAACAAAAAAEAAAQAAAAAAQAABgAAAAABAAACAAAAAAEAAAYAAAAAAQAAAgAAAAACAAAEAAAAAAEAAAgAAAAAAgAAAgAAAAABAAAKAAAAAAEAAAQAAAAAAQAAAAAAAAABAAACAAAAAAEAAAQAAAAAAQAACAAAAAACAAACAAAAAAEAAAgAAAAAAgAAAgAAAAABAAAEAAAAAAEAAAYAAAAAAQAAAgAAAAACAAAEAAAAAAEAAAYAAAAAAQAAAgAAAAABAAAIAAAAAAIAAAIAAAAAAQAABgAAAAABAAACAAAAAAEAAAYAAAAAAQAAAgAAAAACAAAEAAAAAAEAAAYAAAAAAQAAAgAAAAACAAAEAAAAAAEAAAYAAAAAAQAAAgAAAAABAAAGAAAAAAEAAAIAAAAAAQAABAAAAAABAAAKAAAAAAEAAAQAAAAAAQAAAAAAAAABAAACAAAAAAEAAAoAAAAAAQAABAAAAAABAAAAAAAAAAEAAAIAAAAAAQAABAAAAAABAAAGAAAAAAEAAAIAAAAAAQAACgAAAAABAAAEAAAAAAEAAAAAAAAAAQAAAgAAAAABAAAKAAAAAAEAAAQAAAAAAQAAAAAAAAABAAACAAAAAAEAAAYAAAAAAQAAAgAAAAABAAAEAAAAAAEAAAoAAAAAAQAABAAAAAABAAAAAAAAAAEAAAIAAAAAAQAABgAAAAABAAACAAAAAAEAAAYAAAAAAQAAAgAAAAABAAAKAAAAAAEAAAQAAAAAAQAAAAAAAAABAAACAAAAAAgAAAQAAAAAAQAACAAAAAACAAACAAAAAAUAAAQAAAAAAQAACAAAAAACAAACAAAAAAIAAAQAAAAAAQAACAAAAAACAAACAAAAAAEAAAoAAAAAAQAABAAAAAABAAAAAAAAAAEAAAIAAAAAAwAABAAAAAABAAAIAAAAAAIAAAIAAAAAAQAABAAAAAABAAAKAAAAAAEAAAQAAAAAAQAAAAAAAAABAAACAAAAAAEAAAoAAAAAAQAABAAAAAABAAAAAAAAAAEAAAIAAAAAAQAACgAAAAABAAAEAAAAAAEAAAAAAAAAAQAAAgAAAAABAAAIAAAAAAIAAAIAAAAAAQAABgAAAAABAAACAAAAAAEAAAQAAAAAAQAABgAAAAABAAACAAAAAAEAAAoAAAAAAQAABAAAAAABAAAAAAAAAAEAAAIAAAAAAQAACgAAAAABAAAEAAAAAAEAAAAAAAAAAQAAAgAAAAABAAAEAAAAAAEAAAYAAAAAAQAAAgAAAAABAAAGAAAAAAEAAAIAAAAAAgAABAAAAAABAAAGAAAAAAEAAAIAAAAAAQAABgAAAAABAAACAAAAAAEAAAoAAAAAAQAABAAAAAABAAAAAAAAAAEAAAIAAAAAAgAABAAAAAABAAAGAAAAAAEAAAIAAAAAAQAACAAAAAACAAACAAAAAAEAAAYAAAAAAQAAAgAAAAABAAAGAAAAAAEAAAIAAAAAAQAABAAAAAABAAAGAAAAAAEAAAIAAAAAAQAACgAAAAABAAAEAAAAAAEAAAAAAAAAAQAAAgAAAAABAAAGAAAAAAEAAAIAAAAAHHN0c2MAAAAAAAAAAQAAAAEAAADKAAAAAQAAAzxzdHN6AAAAAAAAAAAAAADKAAAFrQAAAB4AAAAUAAAAEgAAABQAAAAgAAAAHAAAAB0AAAAWAAAAEgAAACEAAAAUAAAAIAAAABMAAAAcAAAAIgAAABQAAAAdAAAAHQAAACEAAAAWAAAAEwAAACAAAAAUAAAAHQAAACMAAAAUAAAAIQAAABQAAAAdAAAAHQAAACMAAAAWAAAAFAAAACMAAAAUAAAAEwAAABQAAAAdAAAAGwAAABYAAAASAAAAIQAAABYAAAATAAAAHQAAACMAAAAUAAAAHQAAAB0AAAAhAAAAFAAAABwAAAAWAAAAEgAAACAAAAAUAAAAIAAAABQAAAAeAAAAHAAAACIAAAAUAAAAHQAAAB0AAAAiAAAAFAAAACAAAAAUAAAAHAAAACAAAAAVAAAAEwAAABQAAAAWAAAAFwAAABQAAAATAAAAHgAAACAAAAAUAAAAJQAAABUAAAAUAAAAEwAAAB0AAAAUAAAAFAAAABMAAAAeAAAAFAAAAB0AAAAhAAAAGQAAABMAAAAUAAAAIgAAABQAAAAcAAAAFAAAAB8AAAAUAAAAEwAAABQAAAAdAAAAHAAAABwAAAAcAAAAHAAAABwAAAAcAAAAHQAAABwAAAATAAAAFAAAABwAAAAcAAAAHAAAABwAAAAdAAAAGwAAABYAAAAUAAAAHQAAAB0AAAAdAAAAEwAAABEAAAAlAAAAFQAAABQAAAATAAAAHQAAAB0AAAAcAAAAHQAAABYAAAASAAAAHgAAACoAAAAZAAAAFAAAABMAAAAjAAAAFAAAABMAAAAUAAAALwAAABgAAAATAAAAFAAAAB0AAAAWAAAAFAAAACEAAAAUAAAAHQAAABwAAAATAAAAFQAAABAAAAAUAAAAEwAAABYAAAAQAAAAFAAAABMAAAAeAAAAIgAAABQAAAAgAAAAFAAAABwAAAAdAAAAIAAAABQAAAAfAAAAFAAAAB8AAAAZAAAAFAAAABQAAAAeAAAAHQAAACAAAAAUAAAAHQAAABYAAAASAAAAGwAAABMAAAAbAAAAFAAAAB0AAAAgAAAAFAAAABUAAAAXAAAAFAAAABQAAAAfAAAAKQAAABRzdGNvAAAAAAAAAAEAAAAwAAAAYnVkdGEAAABabWV0YQAAAAAAAAAhaGRscgAAAAAAAAAAbWRpcmFwcGwAAAAAAAAAAAAAAAAtaWxzdAAAACWpdG9vAAAAHWRhdGEAAAABAAAAAExhdmY1Ny44My4xMDA=\" type=\"video/mp4\" />\n",
       "             </video>"
      ],
      "text/plain": [
       "<IPython.core.display.HTML object>"
      ]
     },
     "execution_count": 25,
     "metadata": {
      "tags": []
     },
     "output_type": "execute_result"
    }
   ],
   "source": [
    "## Best video\n",
    "HTML(display_videos('fc_train80.mp4'))"
   ]
  },
  {
   "cell_type": "markdown",
   "metadata": {
    "colab_type": "text",
    "id": "6fEc9hsiBkc2"
   },
   "source": [
    "***\n",
    "***\n",
    "__Question 8__ Implement the DQN training algorithm using a CNN (for example, 2 convolutional layers and one final fully connected layer)."
   ]
  },
  {
   "cell_type": "code",
   "execution_count": 0,
   "metadata": {
    "colab": {},
    "colab_type": "code",
    "id": "mPE6FFi8Bkc3"
   },
   "outputs": [],
   "source": [
    "class DQN_CNN(DQN):\n",
    "    def __init__(self, *args,lr=0.1,**kwargs):\n",
    "        super(DQN_CNN, self).__init__(*args,**kwargs)\n",
    "        \n",
    "        model = Sequential()\n",
    "        model.add(Conv2D(64, kernel_size=3, activation=\"relu\", input_shape=(5, 5, self.n_state)))\n",
    "        model.add(Conv2D(32, kernel_size=3, activation=\"relu\"))\n",
    "        model.add(Dropout(0.2))\n",
    "        model.add(Flatten())\n",
    "        model.add(Dense(4))\n",
    "        \n",
    "        model.compile(sgd(lr=lr, decay=1e-4, momentum=0.0), \"mse\")\n",
    "        self.model = model"
   ]
  },
  {
   "cell_type": "code",
   "execution_count": 27,
   "metadata": {
    "colab": {
     "base_uri": "https://localhost:8080/",
     "height": 1000
    },
    "colab_type": "code",
    "id": "CSQUt9CkBkc5",
    "outputId": "2e4d79ef-fbfa-43e7-ce96-6b1f6abeef65"
   },
   "outputs": [
    {
     "name": "stdout",
     "output_type": "stream",
     "text": [
      "Epoch 000/100 | Loss 0.0002 | Win/lose count 2.5/1.0 (1.5)\n",
      "Epoch 001/100 | Loss 0.0010 | Win/lose count 4.0/1.0 (3.0)\n",
      "Epoch 002/100 | Loss 0.0011 | Win/lose count 5.0/5.0 (0.0)\n",
      "Epoch 003/100 | Loss 0.0080 | Win/lose count 2.5/5.0 (-2.5)\n",
      "Epoch 004/100 | Loss 0.0051 | Win/lose count 1.5/4.0 (-2.5)\n",
      "Epoch 005/100 | Loss 0.0023 | Win/lose count 1.0/3.0 (-2.0)\n",
      "Epoch 006/100 | Loss 0.0074 | Win/lose count 3.5/0 (3.5)\n",
      "Epoch 007/100 | Loss 0.0038 | Win/lose count 2.0/8.0 (-6.0)\n",
      "Epoch 008/100 | Loss 0.0020 | Win/lose count 1.0/5.0 (-4.0)\n",
      "Epoch 009/100 | Loss 0.0038 | Win/lose count 2.5/3.0 (-0.5)\n",
      "Epoch 010/100 | Loss 0.0388 | Win/lose count 1.0/2.0 (-1.0)\n",
      "Epoch 011/100 | Loss 0.0039 | Win/lose count 7.5/3.0 (4.5)\n",
      "Epoch 012/100 | Loss 0.0041 | Win/lose count 7.0/3.0 (4.0)\n",
      "Epoch 013/100 | Loss 0.0021 | Win/lose count 5.0/3.0 (2.0)\n",
      "Epoch 014/100 | Loss 0.0603 | Win/lose count 6.5/2.0 (4.5)\n",
      "Epoch 015/100 | Loss 0.0009 | Win/lose count 6.0/2.0 (4.0)\n",
      "Epoch 016/100 | Loss 0.0032 | Win/lose count 8.5/5.0 (3.5)\n",
      "Epoch 017/100 | Loss 0.0491 | Win/lose count 6.0/1.0 (5.0)\n",
      "Epoch 018/100 | Loss 0.0029 | Win/lose count 13.5/7.0 (6.5)\n",
      "Epoch 019/100 | Loss 0.0027 | Win/lose count 10.5/3.0 (7.5)\n",
      "Epoch 020/100 | Loss 0.0032 | Win/lose count 5.5/2.0 (3.5)\n",
      "Epoch 021/100 | Loss 0.0017 | Win/lose count 4.0/1.0 (3.0)\n",
      "Epoch 022/100 | Loss 0.0065 | Win/lose count 3.5/2.0 (1.5)\n",
      "Epoch 023/100 | Loss 0.0029 | Win/lose count 7.0/1.0 (6.0)\n",
      "Epoch 024/100 | Loss 0.0015 | Win/lose count 8.0/0 (8.0)\n",
      "Epoch 025/100 | Loss 0.0013 | Win/lose count 16.0/3.0 (13.0)\n",
      "Epoch 026/100 | Loss 0.0007 | Win/lose count 14.5/3.0 (11.5)\n",
      "Epoch 027/100 | Loss 0.1158 | Win/lose count 12.0/2.0 (10.0)\n",
      "Epoch 028/100 | Loss 0.0031 | Win/lose count 17.5/4.0 (13.5)\n",
      "Epoch 029/100 | Loss 0.0057 | Win/lose count 8.5/2.0 (6.5)\n",
      "Epoch 030/100 | Loss 0.0536 | Win/lose count 5.0/5.0 (0.0)\n",
      "Epoch 031/100 | Loss 0.0024 | Win/lose count 10.5/4.0 (6.5)\n",
      "Epoch 032/100 | Loss 0.0027 | Win/lose count 22.5/5.0 (17.5)\n",
      "Epoch 033/100 | Loss 0.0035 | Win/lose count 10.5/1.0 (9.5)\n",
      "Epoch 034/100 | Loss 0.0046 | Win/lose count 11.5/5.0 (6.5)\n",
      "Epoch 035/100 | Loss 0.0011 | Win/lose count 10.5/4.0 (6.5)\n",
      "Epoch 036/100 | Loss 0.0040 | Win/lose count 14.0/1.0 (13.0)\n",
      "Epoch 037/100 | Loss 0.0542 | Win/lose count 8.5/2.0 (6.5)\n",
      "Epoch 038/100 | Loss 0.0016 | Win/lose count 6.0/1.0 (5.0)\n",
      "Epoch 039/100 | Loss 0.0023 | Win/lose count 14.5/7.0 (7.5)\n",
      "Epoch 040/100 | Loss 0.0013 | Win/lose count 7.5/3.0 (4.5)\n",
      "Epoch 041/100 | Loss 0.0026 | Win/lose count 11.0/4.0 (7.0)\n",
      "Epoch 042/100 | Loss 0.0026 | Win/lose count 9.5/2.0 (7.5)\n",
      "Epoch 043/100 | Loss 0.0038 | Win/lose count 14.5/5.0 (9.5)\n",
      "Epoch 044/100 | Loss 0.0028 | Win/lose count 14.0/1.0 (13.0)\n",
      "Epoch 045/100 | Loss 0.0045 | Win/lose count 9.5/2.0 (7.5)\n",
      "Epoch 046/100 | Loss 0.0039 | Win/lose count 8.0/4.0 (4.0)\n",
      "Epoch 047/100 | Loss 0.0016 | Win/lose count 9.0/1.0 (8.0)\n",
      "Epoch 048/100 | Loss 0.0029 | Win/lose count 17.0/5.0 (12.0)\n",
      "Epoch 049/100 | Loss 0.0030 | Win/lose count 13.0/4.0 (9.0)\n",
      "Epoch 050/100 | Loss 0.0016 | Win/lose count 15.0/1.0 (14.0)\n",
      "Epoch 051/100 | Loss 0.0024 | Win/lose count 16.0/1.0 (15.0)\n",
      "Epoch 052/100 | Loss 0.0026 | Win/lose count 12.5/3.0 (9.5)\n",
      "Epoch 053/100 | Loss 0.0485 | Win/lose count 12.5/2.0 (10.5)\n",
      "Epoch 054/100 | Loss 0.0023 | Win/lose count 16.0/0 (16.0)\n",
      "Epoch 055/100 | Loss 0.0017 | Win/lose count 6.0/4.0 (2.0)\n",
      "Epoch 056/100 | Loss 0.0016 | Win/lose count 12.5/6.0 (6.5)\n",
      "Epoch 057/100 | Loss 0.0028 | Win/lose count 5.5/2.0 (3.5)\n",
      "Epoch 058/100 | Loss 0.0573 | Win/lose count 16.5/0 (16.5)\n",
      "Epoch 059/100 | Loss 0.0023 | Win/lose count 20.0/1.0 (19.0)\n",
      "Epoch 060/100 | Loss 0.0014 | Win/lose count 12.5/3.0 (9.5)\n",
      "Epoch 061/100 | Loss 0.0013 | Win/lose count 8.0/4.0 (4.0)\n",
      "Epoch 062/100 | Loss 0.0048 | Win/lose count 10.0/2.0 (8.0)\n",
      "Epoch 063/100 | Loss 0.0041 | Win/lose count 9.5/2.0 (7.5)\n",
      "Epoch 064/100 | Loss 0.0022 | Win/lose count 12.5/1.0 (11.5)\n",
      "Epoch 065/100 | Loss 0.0022 | Win/lose count 10.5/2.0 (8.5)\n",
      "Epoch 066/100 | Loss 0.0025 | Win/lose count 3.5/2.0 (1.5)\n",
      "Epoch 067/100 | Loss 0.0539 | Win/lose count 19.0/3.0 (16.0)\n",
      "Epoch 068/100 | Loss 0.0015 | Win/lose count 10.5/4.0 (6.5)\n",
      "Epoch 069/100 | Loss 0.0033 | Win/lose count 20.0/5.0 (15.0)\n",
      "Epoch 070/100 | Loss 0.0023 | Win/lose count 19.5/4.0 (15.5)\n",
      "Epoch 071/100 | Loss 0.0024 | Win/lose count 11.5/2.0 (9.5)\n",
      "Epoch 072/100 | Loss 0.0585 | Win/lose count 16.0/2.0 (14.0)\n",
      "Epoch 073/100 | Loss 0.0030 | Win/lose count 18.0/3.0 (15.0)\n",
      "Epoch 074/100 | Loss 0.0453 | Win/lose count 18.5/2.0 (16.5)\n",
      "Epoch 075/100 | Loss 0.0076 | Win/lose count 11.5/3.0 (8.5)\n",
      "Epoch 076/100 | Loss 0.0010 | Win/lose count 3.5/0 (3.5)\n",
      "Epoch 077/100 | Loss 0.0025 | Win/lose count 8.5/3.0 (5.5)\n",
      "Epoch 078/100 | Loss 0.0024 | Win/lose count 11.0/1.0 (10.0)\n",
      "Epoch 079/100 | Loss 0.0046 | Win/lose count 18.5/0 (18.5)\n",
      "Epoch 080/100 | Loss 0.0478 | Win/lose count 18.0/5.0 (13.0)\n",
      "Epoch 081/100 | Loss 0.0047 | Win/lose count 9.0/3.0 (6.0)\n",
      "Epoch 082/100 | Loss 0.0016 | Win/lose count 10.5/4.0 (6.5)\n",
      "Epoch 083/100 | Loss 0.0030 | Win/lose count 15.5/3.0 (12.5)\n",
      "Epoch 084/100 | Loss 0.0008 | Win/lose count 10.5/3.0 (7.5)\n",
      "Epoch 085/100 | Loss 0.0502 | Win/lose count 20.5/4.0 (16.5)\n",
      "Epoch 086/100 | Loss 0.0019 | Win/lose count 25.0/1.0 (24.0)\n",
      "Epoch 087/100 | Loss 0.0031 | Win/lose count 16.0/2.0 (14.0)\n",
      "Epoch 088/100 | Loss 0.0538 | Win/lose count 20.0/3.0 (17.0)\n",
      "Epoch 089/100 | Loss 0.0029 | Win/lose count 18.5/7.0 (11.5)\n",
      "Epoch 090/100 | Loss 0.0038 | Win/lose count 15.0/6.0 (9.0)\n",
      "Epoch 091/100 | Loss 0.0075 | Win/lose count 16.0/2.0 (14.0)\n",
      "Epoch 092/100 | Loss 0.0078 | Win/lose count 12.0/3.0 (9.0)\n",
      "Epoch 093/100 | Loss 0.0028 | Win/lose count 15.0/2.0 (13.0)\n",
      "Epoch 094/100 | Loss 0.0018 | Win/lose count 18.0/0 (18.0)\n",
      "Epoch 095/100 | Loss 0.0476 | Win/lose count 17.0/3.0 (14.0)\n",
      "Epoch 096/100 | Loss 0.0019 | Win/lose count 19.5/3.0 (16.5)\n",
      "Epoch 097/100 | Loss 0.0023 | Win/lose count 8.5/3.0 (5.5)\n",
      "Epoch 098/100 | Loss 0.0023 | Win/lose count 15.5/1.0 (14.5)\n",
      "Epoch 099/100 | Loss 0.0040 | Win/lose count 13.0/5.0 (8.0)\n"
     ]
    },
    {
     "data": {
      "text/html": [
       "<video alt=\"test\" controls>\n",
       "                <source src=\"data:video/mp4;base64,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\" type=\"video/mp4\" />\n",
       "             </video>"
      ],
      "text/plain": [
       "<IPython.core.display.HTML object>"
      ]
     },
     "execution_count": 27,
     "metadata": {
      "tags": []
     },
     "output_type": "execute_result"
    }
   ],
   "source": [
    "env = Environment(grid_size=size, max_time=T, temperature=0.3)\n",
    "agent = DQN_CNN(size, lr=.1, epsilon = 0.1, memory_size=2000, batch_size = 32)\n",
    "train(agent,env,epochs_train,prefix='cnn_train')\n",
    "HTML(display_videos('cnn_train10.mp4'))"
   ]
  },
  {
   "cell_type": "code",
   "execution_count": 28,
   "metadata": {
    "colab": {
     "base_uri": "https://localhost:8080/",
     "height": 294
    },
    "colab_type": "code",
    "id": "egTEs2e5SsWo",
    "outputId": "7ae39ed3-6a59-412e-c382-9488afbd55f5"
   },
   "outputs": [
    {
     "data": {
      "text/html": [
       "<video alt=\"test\" controls>\n",
       "                <source src=\"data:video/mp4;base64,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\" type=\"video/mp4\" />\n",
       "             </video>"
      ],
      "text/plain": [
       "<IPython.core.display.HTML object>"
      ]
     },
     "execution_count": 28,
     "metadata": {
      "tags": []
     },
     "output_type": "execute_result"
    }
   ],
   "source": [
    "HTML(display_videos('cnn_train70.mp4'))"
   ]
  },
  {
   "cell_type": "markdown",
   "metadata": {
    "colab_type": "text",
    "id": "ZI952QF0Bkc8"
   },
   "source": [
    "***\n",
    "***\n",
    "__Question 9__ Test both algorithms and compare their performances. Which issue(s) do you observe? Observe also different behaviors by changing the temperature."
   ]
  },
  {
   "cell_type": "code",
   "execution_count": 0,
   "metadata": {
    "colab": {
     "base_uri": "https://localhost:8080/",
     "height": 1000
    },
    "colab_type": "code",
    "id": "bmYA_wdEmRD4",
    "outputId": "a495cc55-7041-41eb-ec3d-8dae9d5621ba"
   },
   "outputs": [
    {
     "name": "stdout",
     "output_type": "stream",
     "text": [
      "Test of the CNN\n",
      "Win/lose count 52.5/-2.0. Average score (50.5)\n",
      "Win/lose count 50.5/-1.0. Average score (50.0)\n",
      "Win/lose count 27.0/0.0. Average score (42.333333333333336)\n",
      "Win/lose count 24.0/0.0. Average score (37.75)\n",
      "Win/lose count 53.0/-2.0. Average score (40.4)\n",
      "Win/lose count 14.0/-1.0. Average score (35.833333333333336)\n",
      "Win/lose count 46.5/0.0. Average score (37.357142857142854)\n",
      "Win/lose count 49.0/0.0. Average score (38.8125)\n",
      "Win/lose count 24.0/0.0. Average score (37.166666666666664)\n",
      "Win/lose count 32.5/0.0. Average score (36.7)\n",
      "Win/lose count 46.0/-2.0. Average score (37.36363636363637)\n",
      "Win/lose count 28.5/0.0. Average score (36.625)\n",
      "Win/lose count 7.5/0.0. Average score (34.38461538461539)\n",
      "Win/lose count 27.5/0.0. Average score (33.892857142857146)\n",
      "Win/lose count 47.0/0.0. Average score (34.766666666666666)\n",
      "Win/lose count 41.5/0.0. Average score (35.1875)\n",
      "Win/lose count 51.5/-1.0. Average score (36.088235294117645)\n",
      "Win/lose count 43.0/0.0. Average score (36.47222222222222)\n",
      "Win/lose count 24.5/-3.0. Average score (35.68421052631579)\n",
      "Win/lose count 15.5/-1.0. Average score (34.625)\n",
      "Win/lose count 38.5/-1.0. Average score (34.76190476190476)\n",
      "Win/lose count 30.5/0.0. Average score (34.56818181818182)\n",
      "Win/lose count 26.5/0.0. Average score (34.21739130434783)\n",
      "Win/lose count 38.5/0.0. Average score (34.395833333333336)\n",
      "Win/lose count 23.5/0.0. Average score (33.96)\n",
      "Win/lose count 33.0/0.0. Average score (33.92307692307692)\n",
      "Win/lose count 32.5/-1.0. Average score (33.833333333333336)\n",
      "Win/lose count 26.0/-1.0. Average score (33.517857142857146)\n",
      "Win/lose count 21.0/-2.0. Average score (33.01724137931034)\n",
      "Win/lose count 34.5/0.0. Average score (33.06666666666667)\n",
      "Win/lose count 39.5/0.0. Average score (33.274193548387096)\n",
      "Win/lose count 46.5/0.0. Average score (33.6875)\n",
      "Win/lose count 25.0/0.0. Average score (33.42424242424242)\n",
      "Win/lose count 5.5/0.0. Average score (32.60294117647059)\n",
      "Win/lose count 38.5/-1.0. Average score (32.74285714285714)\n",
      "Win/lose count 32.5/0.0. Average score (32.736111111111114)\n",
      "Win/lose count 20.5/0.0. Average score (32.4054054054054)\n",
      "Win/lose count 18.5/0.0. Average score (32.03947368421053)\n",
      "Win/lose count 46.0/0.0. Average score (32.3974358974359)\n",
      "Win/lose count 41.0/0.0. Average score (32.6125)\n",
      "Win/lose count 52.0/-1.0. Average score (33.0609756097561)\n",
      "Win/lose count 39.0/0.0. Average score (33.20238095238095)\n",
      "Win/lose count 59.5/-3.0. Average score (33.74418604651163)\n",
      "Win/lose count 36.0/0.0. Average score (33.79545454545455)\n",
      "Win/lose count 38.5/0.0. Average score (33.9)\n",
      "Win/lose count 9.0/0.0. Average score (33.358695652173914)\n",
      "Win/lose count 33.5/-1.0. Average score (33.340425531914896)\n",
      "Win/lose count 6.0/0.0. Average score (32.770833333333336)\n",
      "Win/lose count 23.0/0.0. Average score (32.57142857142857)\n",
      "Win/lose count 15.0/-1.0. Average score (32.2)\n",
      "Final score: 32.2\n",
      "Test of the FC\n",
      "Win/lose count 26.5/0.0. Average score (26.5)\n",
      "Win/lose count 30.5/-1.0. Average score (28.0)\n",
      "Win/lose count 34.5/0.0. Average score (30.166666666666668)\n",
      "Win/lose count 26.5/0.0. Average score (29.25)\n",
      "Win/lose count 44.0/-1.0. Average score (32.0)\n",
      "Win/lose count 40.5/0.0. Average score (33.416666666666664)\n",
      "Win/lose count 27.5/0.0. Average score (32.57142857142857)\n",
      "Win/lose count 47.0/0.0. Average score (34.375)\n",
      "Win/lose count 39.0/-1.0. Average score (34.77777777777778)\n",
      "Win/lose count 28.5/0.0. Average score (34.15)\n",
      "Win/lose count 51.5/-2.0. Average score (35.54545454545455)\n",
      "Win/lose count 34.0/0.0. Average score (35.416666666666664)\n",
      "Win/lose count 27.5/0.0. Average score (34.80769230769231)\n",
      "Win/lose count 27.0/0.0. Average score (34.25)\n",
      "Win/lose count 38.5/0.0. Average score (34.53333333333333)\n",
      "Win/lose count 23.0/0.0. Average score (33.8125)\n",
      "Win/lose count 18.0/0.0. Average score (32.88235294117647)\n",
      "Win/lose count 34.5/-2.0. Average score (32.861111111111114)\n",
      "Win/lose count 27.0/0.0. Average score (32.55263157894737)\n",
      "Win/lose count 42.0/0.0. Average score (33.025)\n",
      "Win/lose count 31.5/0.0. Average score (32.95238095238095)\n",
      "Win/lose count 54.0/0.0. Average score (33.90909090909091)\n",
      "Win/lose count 17.0/-1.0. Average score (33.130434782608695)\n",
      "Win/lose count 9.0/0.0. Average score (32.125)\n",
      "Win/lose count 42.5/-1.0. Average score (32.5)\n",
      "Win/lose count 21.0/-1.0. Average score (32.01923076923077)\n",
      "Win/lose count 53.0/0.0. Average score (32.7962962962963)\n",
      "Win/lose count 29.5/-1.0. Average score (32.642857142857146)\n",
      "Win/lose count 34.5/0.0. Average score (32.706896551724135)\n",
      "Win/lose count 40.0/0.0. Average score (32.95)\n",
      "Win/lose count 21.0/0.0. Average score (32.564516129032256)\n",
      "Win/lose count 23.5/0.0. Average score (32.28125)\n",
      "Win/lose count 55.0/0.0. Average score (32.96969696969697)\n",
      "Win/lose count 16.5/0.0. Average score (32.48529411764706)\n",
      "Win/lose count 6.5/-1.0. Average score (31.714285714285715)\n",
      "Win/lose count 21.5/0.0. Average score (31.430555555555557)\n",
      "Win/lose count 44.5/0.0. Average score (31.783783783783782)\n",
      "Win/lose count 24.5/-1.0. Average score (31.56578947368421)\n",
      "Win/lose count 43.5/-1.0. Average score (31.846153846153847)\n",
      "Win/lose count 24.0/0.0. Average score (31.65)\n",
      "Win/lose count 37.0/0.0. Average score (31.78048780487805)\n",
      "Win/lose count 5.0/0.0. Average score (31.142857142857142)\n",
      "Win/lose count 40.0/0.0. Average score (31.348837209302324)\n",
      "Win/lose count 14.0/0.0. Average score (30.954545454545453)\n",
      "Win/lose count 25.0/-1.0. Average score (30.8)\n",
      "Win/lose count 43.5/-1.0. Average score (31.054347826086957)\n",
      "Win/lose count 22.5/0.0. Average score (30.872340425531913)\n",
      "Win/lose count 51.5/-2.0. Average score (31.260416666666668)\n",
      "Win/lose count 43.0/0.0. Average score (31.5)\n",
      "Win/lose count 39.5/0.0. Average score (31.66)\n",
      "Final score: 31.66\n"
     ]
    }
   ],
   "source": [
    "env = Environment(grid_size=size, max_time=T,temperature=0.8)\n",
    "agent_cnn = DQN_CNN(size, lr=.1, epsilon = 0.1, memory_size=1000, batch_size = 64)\n",
    "agent_cnn.load(name_weights='cnn_trainmodel.h5',name_model='cnn_trainmodel.json')\n",
    "\n",
    "agent_fc = DQN_FC(size, lr=.1, epsilon = 0.1, memory_size=1000, batch_size = 64)\n",
    "agent_fc.load(name_weights='fc_trainmodel.h5',name_model='fc_trainmodel.json')\n",
    "print('Test of the CNN')\n",
    "test(agent_cnn,env,epochs_test,prefix='cnn_test')\n",
    "print('Test of the FC')\n",
    "test(agent_fc,env,epochs_test,prefix='fc_test')"
   ]
  },
  {
   "cell_type": "markdown",
   "metadata": {
    "colab_type": "text",
    "id": "XUQSUSI0BkdD"
   },
   "source": [
    "> The CNN performs better than the FC, because in general convolution networks have better performance in dealing with image data which is the case here.\n",
    "\n",
    ">However our agent suffers from an exploration problem. It doesn't explore much the map, and often gets stuck in corners.\n",
    "\n",
    ">Regarding the temperature: Changing the temperature means changing the probability in the binomial law. while increasing the temperature the probability to get cheese increases and lowering the probability to get in a poisonous cell. Therefore, we obtain better results but it is biased.\n",
    "\n",
    "\n"
   ]
  },
  {
   "cell_type": "markdown",
   "metadata": {
    "colab_type": "text",
    "id": "zwd535O9BkdE"
   },
   "source": [
    "***\n",
    "\n",
    "The algorithm tends to not explore the map which can be an issue. We propose two ideas in order to encourage exploration:\n",
    "1. Incorporating a decreasing $\\epsilon$-greedy exploration. You can use the method ```set_epsilon```\n",
    "2. Append via the environment a new state that describes if a cell has been visited or not\n",
    "\n",
    "***\n",
    "__Question 10__ Design a new ```train_explore``` function and environment class ```EnvironmentExploring``` to tackle the issue of exploration.\n",
    "\n"
   ]
  },
  {
   "cell_type": "code",
   "execution_count": 0,
   "metadata": {
    "colab": {},
    "colab_type": "code",
    "id": "FxlJXfTYVVoX"
   },
   "outputs": [],
   "source": [
    "def train_explore(agent,env,epoch,rate_decreasing_epsilon=0.99,prefix=''):\n",
    "    # Number of won games\n",
    "    score = 0\n",
    "    loss = 0\n",
    "\n",
    "    for e in range(epoch):\n",
    "        # At each epoch, we restart to a fresh game and get the initial state\n",
    "        state = env.reset()\n",
    "        # This assumes that the games will terminate\n",
    "        game_over = False\n",
    "\n",
    "        win = 0\n",
    "        lose = 0\n",
    "\n",
    "        agent.set_epsilon(agent.epsilon*rate_decreasing_epsilon)\n",
    "        while not game_over:\n",
    "            # The agent performs an action\n",
    "            action = agent.act(state)\n",
    "\n",
    "            # Apply an action to the environment, get the next state, the reward\n",
    "            # and if the games end\n",
    "            prev_state = state\n",
    "            state, reward, game_over = env.act(action)\n",
    "\n",
    "            # Update the counters\n",
    "            if reward > 0:\n",
    "                win = win + reward\n",
    "            if reward < 0:\n",
    "                lose = lose -reward\n",
    "\n",
    "            # Apply the reinforcement strategy\n",
    "            loss = agent.reinforce(prev_state, state,  action, reward, game_over)\n",
    "\n",
    "        # Save as a mp4\n",
    "        if e % 10 == 0:\n",
    "            env.draw(prefix+str(e))\n",
    "\n",
    "        # Update stats\n",
    "        score += win-lose\n",
    "\n",
    "        print(\"Epoch {:03d}/{:03d} | Loss {:.4f} | Win/lose count {}/{} ({})\"\n",
    "              .format(e, epoch, loss, win, lose, win-lose))\n",
    "        agent.save(name_weights=prefix+'model.h5',name_model=prefix+'model.json')"
   ]
  },
  {
   "cell_type": "code",
   "execution_count": 0,
   "metadata": {
    "colab": {},
    "colab_type": "code",
    "id": "SzRavOWDWQSM"
   },
   "outputs": [],
   "source": [
    "class EnvironmentExploring(Environment):\n",
    "    def __init__(self, grid_size=10, max_time=500, temperature=0.1):\n",
    "        super(EnvironmentExploring, self).__init__(grid_size=grid_size, max_time=max_time, temperature=temperature)\n",
    "        self.malus_position = np.zeros((self.grid_size,self.grid_size))\n",
    "    \n",
    "    def act(self, action, train = False):\n",
    "        \"\"\"This function returns the new state, reward and decides if the\n",
    "        game ends.\"\"\"\n",
    "\n",
    "        self.get_frame(int(self.t))\n",
    "\n",
    "        self.position = np.zeros((self.grid_size, self.grid_size))\n",
    "\n",
    "        self.position[0:2,:]= -1\n",
    "        self.position[:,0:2] = -1\n",
    "        self.position[-2:, :] = -1\n",
    "        #error ==> self.position[-2:, :]\n",
    "        self.position[:, -2:] = -1\n",
    "\n",
    "        self.position[self.x, self.y] = 1\n",
    "        if action == 0:\n",
    "            if self.x == self.grid_size-3:\n",
    "                self.x = self.x - 1\n",
    "            else:\n",
    "                self.x = self.x + 1\n",
    "        elif action == 1:\n",
    "            if self.x == 2:\n",
    "                self.x = self.x+1\n",
    "            else:\n",
    "                self.x = self.x-1\n",
    "        elif action == 2:\n",
    "            if self.y == self.grid_size - 3:\n",
    "                self.y = self.y - 1\n",
    "            else:\n",
    "                self.y = self.y + 1\n",
    "        elif action == 3:\n",
    "            if self.y == 2:\n",
    "                self.y = self.y + 1\n",
    "            else:\n",
    "                self.y = self.y - 1\n",
    "        else:\n",
    "            RuntimeError('Error: action not recognized')\n",
    "\n",
    "        self.t = self.t + 1\n",
    "        reward = 0\n",
    "        if train:\n",
    "            reward = -self.malus_position[self.x, self.y]\n",
    "        self.malus_position[self.x, self.y] = 0.1\n",
    "\n",
    "        reward = reward + self.board[self.x, self.y]\n",
    "        self.board[self.x, self.y] = 0\n",
    "        game_over = self.t > self.max_time\n",
    "        \n",
    "        state = np.concatenate((self.malus_position.reshape(self.grid_size, self.grid_size,1),\n",
    "                                self.board.reshape(self.grid_size, self.grid_size,1),\n",
    "                        self.position.reshape(self.grid_size, self.grid_size,1)),axis=2)\n",
    "        \n",
    "        state = state[self.x-2:self.x+3,self.y-2:self.y+3,:]\n",
    "\n",
    "        return state, reward, game_over\n",
    "    \n",
    "    def reset(self):\n",
    "        \"\"\"This function resets the game and returns the initial state\"\"\"\n",
    "\n",
    "        self.x = np.random.randint(3, self.grid_size-3, size=1)[0]\n",
    "        self.y = np.random.randint(3, self.grid_size-3, size=1)[0]\n",
    "\n",
    "\n",
    "        bonus = 0.5*np.random.binomial(1,self.temperature,size=self.grid_size**2)\n",
    "        bonus = bonus.reshape(self.grid_size,self.grid_size)\n",
    "\n",
    "        malus = -1.0*np.random.binomial(1,self.temperature,size=self.grid_size**2)\n",
    "        malus = malus.reshape(self.grid_size, self.grid_size)\n",
    "\n",
    "        self.to_draw = np.zeros((self.max_time+2, self.grid_size*self.scale, self.grid_size*self.scale, 3))\n",
    "\n",
    "\n",
    "        malus[bonus>0]=0\n",
    "\n",
    "        self.board = bonus + malus\n",
    "\n",
    "        self.malus_position = np.zeros((self.grid_size, self.grid_size))\n",
    "        self.position = np.zeros((self.grid_size, self.grid_size))\n",
    "        self.position[0:2,:]= -1\n",
    "        self.position[:,0:2] = -1\n",
    "        self.position[-2:, :] = -1\n",
    "        self.position[:, -2:] = -1\n",
    "        self.board[self.x,self.y] = 0\n",
    "        self.t = 0\n",
    "\n",
    "        state = np.concatenate((self.malus_position.reshape(self.grid_size, self.grid_size,1),\n",
    "                                        self.board.reshape(self.grid_size, self.grid_size,1),\n",
    "                                self.position.reshape(self.grid_size, self.grid_size,1)),axis=2)\n",
    "        \n",
    "        state = state[self.x - 2:self.x + 3, self.y - 2:self.y + 3, :]\n",
    "        return state"
   ]
  },
  {
   "cell_type": "code",
   "execution_count": 35,
   "metadata": {
    "colab": {
     "base_uri": "https://localhost:8080/",
     "height": 1000
    },
    "colab_type": "code",
    "id": "7zNQUKMNBkdH",
    "outputId": "327cb71d-e1a6-4cd1-ac79-a1715cdd570a"
   },
   "outputs": [
    {
     "name": "stdout",
     "output_type": "stream",
     "text": [
      "Epoch 000/100 | Loss 0.0001 | Win/lose count 2.0/1.0 (1.0)\n",
      "Epoch 001/100 | Loss 0.0002 | Win/lose count 1.5/2.0 (-0.5)\n",
      "Epoch 002/100 | Loss 0.0048 | Win/lose count 4.0/3.0 (1.0)\n",
      "Epoch 003/100 | Loss 0.0022 | Win/lose count 2.5/2.0 (0.5)\n",
      "Epoch 004/100 | Loss 0.0016 | Win/lose count 2.5/2.0 (0.5)\n",
      "Epoch 005/100 | Loss 0.0130 | Win/lose count 3.0/3.0 (0.0)\n",
      "Epoch 006/100 | Loss 0.0042 | Win/lose count 2.0/5.0 (-3.0)\n",
      "Epoch 007/100 | Loss 0.0028 | Win/lose count 4.0/5.0 (-1.0)\n",
      "Epoch 008/100 | Loss 0.0020 | Win/lose count 4.5/3.0 (1.5)\n",
      "Epoch 009/100 | Loss 0.0620 | Win/lose count 3.5/2.0 (1.5)\n",
      "Epoch 010/100 | Loss 0.0026 | Win/lose count 1.0/3.0 (-2.0)\n",
      "Epoch 011/100 | Loss 0.0505 | Win/lose count 4.0/4.0 (0.0)\n",
      "Epoch 012/100 | Loss 0.0055 | Win/lose count 3.5/0 (3.5)\n",
      "Epoch 013/100 | Loss 0.0049 | Win/lose count 4.0/2.0 (2.0)\n",
      "Epoch 014/100 | Loss 0.0047 | Win/lose count 4.0/2.0 (2.0)\n",
      "Epoch 015/100 | Loss 0.0063 | Win/lose count 2.5/2.0 (0.5)\n",
      "Epoch 016/100 | Loss 0.0005 | Win/lose count 4.0/4.0 (0.0)\n",
      "Epoch 017/100 | Loss 0.0553 | Win/lose count 3.0/1.0 (2.0)\n",
      "Epoch 018/100 | Loss 0.0010 | Win/lose count 1.5/1.0 (0.5)\n",
      "Epoch 019/100 | Loss 0.0014 | Win/lose count 3.5/1.0 (2.5)\n",
      "Epoch 020/100 | Loss 0.0009 | Win/lose count 5.5/0 (5.5)\n",
      "Epoch 021/100 | Loss 0.0041 | Win/lose count 1.0/1.0 (0.0)\n",
      "Epoch 022/100 | Loss 0.0025 | Win/lose count 6.0/3.0 (3.0)\n",
      "Epoch 023/100 | Loss 0.0021 | Win/lose count 8.5/0 (8.5)\n",
      "Epoch 024/100 | Loss 0.0018 | Win/lose count 4.5/0 (4.5)\n",
      "Epoch 025/100 | Loss 0.0009 | Win/lose count 4.0/0 (4.0)\n",
      "Epoch 026/100 | Loss 0.0011 | Win/lose count 3.0/1.0 (2.0)\n",
      "Epoch 027/100 | Loss 0.0488 | Win/lose count 2.5/0 (2.5)\n",
      "Epoch 028/100 | Loss 0.0008 | Win/lose count 3.5/3.0 (0.5)\n",
      "Epoch 029/100 | Loss 0.0012 | Win/lose count 4.5/2.0 (2.5)\n",
      "Epoch 030/100 | Loss 0.0016 | Win/lose count 5.5/1.0 (4.5)\n",
      "Epoch 031/100 | Loss 0.0012 | Win/lose count 7.0/2.0 (5.0)\n",
      "Epoch 032/100 | Loss 0.0012 | Win/lose count 3.0/1.0 (2.0)\n",
      "Epoch 033/100 | Loss 0.0431 | Win/lose count 5.5/1.0 (4.5)\n",
      "Epoch 034/100 | Loss 0.0016 | Win/lose count 4.5/2.0 (2.5)\n",
      "Epoch 035/100 | Loss 0.0452 | Win/lose count 10.0/0 (10.0)\n",
      "Epoch 036/100 | Loss 0.0024 | Win/lose count 8.5/0 (8.5)\n",
      "Epoch 037/100 | Loss 0.0014 | Win/lose count 7.5/1.0 (6.5)\n",
      "Epoch 038/100 | Loss 0.0487 | Win/lose count 5.5/1.0 (4.5)\n",
      "Epoch 039/100 | Loss 0.0012 | Win/lose count 15.0/0 (15.0)\n",
      "Epoch 040/100 | Loss 0.0010 | Win/lose count 5.5/1.0 (4.5)\n",
      "Epoch 041/100 | Loss 0.0007 | Win/lose count 14.5/2.0 (12.5)\n",
      "Epoch 042/100 | Loss 0.0013 | Win/lose count 13.5/3.0 (10.5)\n",
      "Epoch 043/100 | Loss 0.0014 | Win/lose count 17.0/2.0 (15.0)\n",
      "Epoch 044/100 | Loss 0.0454 | Win/lose count 8.0/2.0 (6.0)\n",
      "Epoch 045/100 | Loss 0.0014 | Win/lose count 11.0/2.0 (9.0)\n",
      "Epoch 046/100 | Loss 0.0051 | Win/lose count 13.0/1.0 (12.0)\n",
      "Epoch 047/100 | Loss 0.0027 | Win/lose count 8.5/2.0 (6.5)\n",
      "Epoch 048/100 | Loss 0.0011 | Win/lose count 15.5/0 (15.5)\n",
      "Epoch 049/100 | Loss 0.0015 | Win/lose count 19.0/1.0 (18.0)\n",
      "Epoch 050/100 | Loss 0.0015 | Win/lose count 8.5/0 (8.5)\n",
      "Epoch 051/100 | Loss 0.0023 | Win/lose count 9.5/2.0 (7.5)\n",
      "Epoch 052/100 | Loss 0.0032 | Win/lose count 5.5/1.0 (4.5)\n",
      "Epoch 053/100 | Loss 0.0444 | Win/lose count 15.5/1.0 (14.5)\n",
      "Epoch 054/100 | Loss 0.0449 | Win/lose count 16.0/2.0 (14.0)\n",
      "Epoch 055/100 | Loss 0.0010 | Win/lose count 21.0/0 (21.0)\n",
      "Epoch 056/100 | Loss 0.0011 | Win/lose count 10.0/0 (10.0)\n",
      "Epoch 057/100 | Loss 0.0467 | Win/lose count 12.5/3.0 (9.5)\n",
      "Epoch 058/100 | Loss 0.0028 | Win/lose count 4.0/0 (4.0)\n",
      "Epoch 059/100 | Loss 0.0607 | Win/lose count 21.0/1.0 (20.0)\n",
      "Epoch 060/100 | Loss 0.0040 | Win/lose count 17.5/1.0 (16.5)\n",
      "Epoch 061/100 | Loss 0.0027 | Win/lose count 17.0/3.0 (14.0)\n",
      "Epoch 062/100 | Loss 0.0018 | Win/lose count 6.0/2.0 (4.0)\n",
      "Epoch 063/100 | Loss 0.0010 | Win/lose count 7.5/0 (7.5)\n",
      "Epoch 064/100 | Loss 0.0012 | Win/lose count 2.5/3.0 (-0.5)\n",
      "Epoch 065/100 | Loss 0.0006 | Win/lose count 8.5/3.0 (5.5)\n",
      "Epoch 066/100 | Loss 0.0021 | Win/lose count 14.0/0 (14.0)\n",
      "Epoch 067/100 | Loss 0.0025 | Win/lose count 12.5/0 (12.5)\n",
      "Epoch 068/100 | Loss 0.0022 | Win/lose count 8.0/1.0 (7.0)\n",
      "Epoch 069/100 | Loss 0.0022 | Win/lose count 10.5/1.0 (9.5)\n",
      "Epoch 070/100 | Loss 0.0042 | Win/lose count 11.5/2.0 (9.5)\n",
      "Epoch 071/100 | Loss 0.0018 | Win/lose count 8.0/2.0 (6.0)\n",
      "Epoch 072/100 | Loss 0.0456 | Win/lose count 23.0/0 (23.0)\n",
      "Epoch 073/100 | Loss 0.0361 | Win/lose count 22.5/0 (22.5)\n",
      "Epoch 074/100 | Loss 0.0032 | Win/lose count 17.5/0 (17.5)\n",
      "Epoch 075/100 | Loss 0.0030 | Win/lose count 10.5/1.0 (9.5)\n",
      "Epoch 076/100 | Loss 0.0011 | Win/lose count 11.5/0 (11.5)\n",
      "Epoch 077/100 | Loss 0.0030 | Win/lose count 6.5/0 (6.5)\n",
      "Epoch 078/100 | Loss 0.0028 | Win/lose count 16.0/3.0 (13.0)\n",
      "Epoch 079/100 | Loss 0.0031 | Win/lose count 15.5/1.0 (14.5)\n",
      "Epoch 080/100 | Loss 0.0658 | Win/lose count 21.0/1.0 (20.0)\n",
      "Epoch 081/100 | Loss 0.0031 | Win/lose count 17.0/4.0 (13.0)\n",
      "Epoch 082/100 | Loss 0.0021 | Win/lose count 18.0/0 (18.0)\n",
      "Epoch 083/100 | Loss 0.0042 | Win/lose count 12.5/2.0 (10.5)\n",
      "Epoch 084/100 | Loss 0.0387 | Win/lose count 3.5/2.0 (1.5)\n",
      "Epoch 085/100 | Loss 0.0024 | Win/lose count 13.5/1.0 (12.5)\n",
      "Epoch 086/100 | Loss 0.0950 | Win/lose count 18.5/3.0 (15.5)\n",
      "Epoch 087/100 | Loss 0.0030 | Win/lose count 14.0/0 (14.0)\n",
      "Epoch 088/100 | Loss 0.0014 | Win/lose count 19.5/1.0 (18.5)\n",
      "Epoch 089/100 | Loss 0.0051 | Win/lose count 11.0/1.0 (10.0)\n",
      "Epoch 090/100 | Loss 0.0020 | Win/lose count 14.0/0 (14.0)\n",
      "Epoch 091/100 | Loss 0.0443 | Win/lose count 23.5/2.0 (21.5)\n",
      "Epoch 092/100 | Loss 0.0339 | Win/lose count 17.5/0 (17.5)\n",
      "Epoch 093/100 | Loss 0.0023 | Win/lose count 21.0/1.0 (20.0)\n",
      "Epoch 094/100 | Loss 0.0462 | Win/lose count 21.5/3.0 (18.5)\n",
      "Epoch 095/100 | Loss 0.0014 | Win/lose count 17.0/1.0 (16.0)\n",
      "Epoch 096/100 | Loss 0.0036 | Win/lose count 11.5/0 (11.5)\n",
      "Epoch 097/100 | Loss 0.0086 | Win/lose count 18.5/1.0 (17.5)\n",
      "Epoch 098/100 | Loss 0.0045 | Win/lose count 17.0/0 (17.0)\n",
      "Epoch 099/100 | Loss 0.0009 | Win/lose count 25.5/3.0 (22.5)\n"
     ]
    },
    {
     "data": {
      "text/html": [
       "<video alt=\"test\" controls>\n",
       "                <source src=\"data:video/mp4;base64,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\" type=\"video/mp4\" />\n",
       "             </video>"
      ],
      "text/plain": [
       "<IPython.core.display.HTML object>"
      ]
     },
     "execution_count": 35,
     "metadata": {
      "tags": []
     },
     "output_type": "execute_result"
    }
   ],
   "source": [
    "# Training\n",
    "env = EnvironmentExploring(grid_size=size, max_time=T, temperature=0.3)\n",
    "agent = DQN_CNN(size, lr=.1, epsilon = 0.1, memory_size=2000, batch_size = 32,n_state=3)\n",
    "train_explore(agent, env, epochs_train, prefix='cnn_train_explore')\n",
    "HTML(display_videos('cnn_train_explore10.mp4'))"
   ]
  },
  {
   "cell_type": "code",
   "execution_count": 36,
   "metadata": {
    "colab": {
     "base_uri": "https://localhost:8080/",
     "height": 294
    },
    "colab_type": "code",
    "id": "-N6etXosaIDr",
    "outputId": "78adfa2a-7e96-4c6c-bc1d-aff1d767eccc"
   },
   "outputs": [
    {
     "data": {
      "text/html": [
       "<video alt=\"test\" controls>\n",
       "                <source src=\"data:video/mp4;base64,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\" type=\"video/mp4\" />\n",
       "             </video>"
      ],
      "text/plain": [
       "<IPython.core.display.HTML object>"
      ]
     },
     "execution_count": 36,
     "metadata": {
      "tags": []
     },
     "output_type": "execute_result"
    }
   ],
   "source": [
    "HTML(display_videos('cnn_train_explore80.mp4'))"
   ]
  },
  {
   "cell_type": "code",
   "execution_count": 37,
   "metadata": {
    "colab": {
     "base_uri": "https://localhost:8080/",
     "height": 1000
    },
    "colab_type": "code",
    "id": "J_6sZleSBkdK",
    "outputId": "79d90521-6cf6-4aa2-94d2-4e9af6b4d0f1"
   },
   "outputs": [
    {
     "name": "stdout",
     "output_type": "stream",
     "text": [
      "Win/lose count 18.0/0.0. Average score (18.0)\n",
      "Win/lose count 8.0/0.0. Average score (13.0)\n",
      "Win/lose count 6.0/0.0. Average score (10.666666666666666)\n",
      "Win/lose count 11.5/0.0. Average score (10.875)\n",
      "Win/lose count 8.0/0.0. Average score (10.3)\n",
      "Win/lose count 7.5/0.0. Average score (9.833333333333334)\n",
      "Win/lose count 9.5/0.0. Average score (9.785714285714286)\n",
      "Win/lose count 3.0/0.0. Average score (8.9375)\n",
      "Win/lose count 7.5/0.0. Average score (8.777777777777779)\n",
      "Win/lose count 3.5/0.0. Average score (8.25)\n",
      "Win/lose count 13.0/0.0. Average score (8.681818181818182)\n",
      "Win/lose count 19.5/0.0. Average score (9.583333333333334)\n",
      "Win/lose count 4.5/1.0. Average score (9.115384615384615)\n",
      "Win/lose count 15.0/0.0. Average score (9.535714285714286)\n",
      "Win/lose count 2.5/0.0. Average score (9.066666666666666)\n",
      "Win/lose count 13.0/0.0. Average score (9.3125)\n",
      "Win/lose count 4.5/0.0. Average score (9.029411764705882)\n",
      "Win/lose count 3.5/0.0. Average score (8.722222222222221)\n",
      "Win/lose count 13.0/0.0. Average score (8.947368421052632)\n",
      "Win/lose count 21.0/0.0. Average score (9.55)\n",
      "Win/lose count 17.5/0.0. Average score (9.928571428571429)\n",
      "Win/lose count 17.0/0.0. Average score (10.25)\n",
      "Win/lose count 10.5/0.0. Average score (10.26086956521739)\n",
      "Win/lose count 13.5/2.0. Average score (10.3125)\n",
      "Win/lose count 12.5/0.0. Average score (10.4)\n",
      "Win/lose count 22.5/0.0. Average score (10.865384615384615)\n",
      "Win/lose count 4.5/0.0. Average score (10.62962962962963)\n",
      "Win/lose count 15.5/0.0. Average score (10.803571428571429)\n",
      "Win/lose count 11.0/0.0. Average score (10.810344827586206)\n",
      "Win/lose count 15.0/0.0. Average score (10.95)\n",
      "Win/lose count 14.5/0.0. Average score (11.064516129032258)\n",
      "Win/lose count 15.0/0.0. Average score (11.1875)\n",
      "Win/lose count 5.5/0.0. Average score (11.015151515151516)\n",
      "Win/lose count 9.5/0.0. Average score (10.970588235294118)\n",
      "Win/lose count 3.0/0.0. Average score (10.742857142857142)\n",
      "Win/lose count 12.5/0.0. Average score (10.791666666666666)\n",
      "Win/lose count 1.0/0.0. Average score (10.527027027027026)\n",
      "Win/lose count 1.0/0.0. Average score (10.276315789473685)\n",
      "Win/lose count 2.0/0.0. Average score (10.064102564102564)\n",
      "Win/lose count 8.5/0.0. Average score (10.025)\n",
      "Win/lose count 8.5/0.0. Average score (9.987804878048781)\n",
      "Win/lose count 9.5/0.0. Average score (9.976190476190476)\n",
      "Win/lose count 22.5/0.0. Average score (10.267441860465116)\n",
      "Win/lose count 10.5/0.0. Average score (10.272727272727273)\n",
      "Win/lose count 14.5/0.0. Average score (10.366666666666667)\n",
      "Win/lose count 2.5/0.0. Average score (10.195652173913043)\n",
      "Win/lose count 6.5/0.0. Average score (10.117021276595745)\n",
      "Win/lose count 4.5/0.0. Average score (10.0)\n",
      "Win/lose count 3.5/0.0. Average score (9.86734693877551)\n",
      "Win/lose count 10.0/0.0. Average score (9.87)\n",
      "Final score: 9.87\n"
     ]
    },
    {
     "data": {
      "text/html": [
       "<video alt=\"test\" controls>\n",
       "                <source src=\"data:video/mp4;base64,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\" type=\"video/mp4\" />\n",
       "             </video>"
      ],
      "text/plain": [
       "<IPython.core.display.HTML object>"
      ]
     },
     "execution_count": 37,
     "metadata": {
      "tags": []
     },
     "output_type": "execute_result"
    }
   ],
   "source": [
    "# Evaluation\n",
    "test(agent,env,epochs_test,prefix='cnn_test_explore')\n",
    "HTML(display_videos('cnn_test_explore10.mp4'))"
   ]
  },
  {
   "cell_type": "markdown",
   "metadata": {
    "colab_type": "text",
    "id": "zSLTfRoVBkdM"
   },
   "source": [
    "***\n",
    "***\n",
    "__BONUS question__ Use the expert DQN from the previous question to generate some winning games. Train a model that mimicks its behavior. Compare the performances."
   ]
  },
  {
   "cell_type": "markdown",
   "metadata": {
    "colab_type": "text",
    "id": "s5BB98yodEeC"
   },
   "source": [
    "**Collect Data**"
   ]
  },
  {
   "cell_type": "code",
   "execution_count": 0,
   "metadata": {
    "colab": {},
    "colab_type": "code",
    "id": "GBNlRJzPcPml"
   },
   "outputs": [],
   "source": [
    "def collect_data(agent,env,epoch,prefix=''):        \n",
    "    states = []\n",
    "    actions = []\n",
    "    \n",
    "    for e in range(epoch):\n",
    "        # At each epoch, we restart to a fresh game and get the initial state\n",
    "        state = env.reset()\n",
    "        game_over = False\n",
    "        while not game_over:\n",
    "            # The agent performs an action\n",
    "            action = agent.act(state)\n",
    "            states.append(state)\n",
    "            actions.append(int(action))\n",
    "\n",
    "            # Apply an action to the environment, get the next state, the reward\n",
    "            # and if the games end\n",
    "            prev_state = state\n",
    "            state, reward, game_over = env.act(action)\n",
    "        \n",
    "        # Save as a avi\n",
    "        if e % 10 == 0:\n",
    "            env.draw(prefix+str(e))\n",
    "    return states, actions\n",
    "\n",
    "# We use the expert agent to collect data\n",
    "\n",
    "# Evaluation\n",
    "env = EnvironmentExploring(grid_size=size, max_time=T, temperature=0.3)\n",
    "agent_expert = DQN_CNN(size, lr=.1, epsilon = 0.1, memory_size=2000, batch_size = 32,n_state=3)\n",
    "agent_expert.load(name_weights='cnn_train_exploremodel.h5',name_model='cnn_train_exploremodel.json')\n",
    "states, actions = collect_data(agent_expert,env,epochs_train,prefix='collect_data')\n",
    "\n",
    "states = np.stack(states,axis = 0)\n",
    "actions = np.array(actions)"
   ]
  },
  {
   "cell_type": "markdown",
   "metadata": {
    "colab_type": "text",
    "id": "ZUoYXItgdHI2"
   },
   "source": [
    "**Copycat agent**"
   ]
  },
  {
   "cell_type": "code",
   "execution_count": 0,
   "metadata": {
    "colab": {},
    "colab_type": "code",
    "id": "ScIhpLqQbr9v"
   },
   "outputs": [],
   "source": [
    "class copycat(DQN):\n",
    "    def __init__(self, *args,lr=0.1,**kwargs):\n",
    "        super(copycat, self).__init__(*args,**kwargs)\n",
    "        \n",
    "        model = Sequential()\n",
    "        model.add(Conv2D(64, (3, 3), activation='relu', input_shape=(5, 5, self.n_state)))\n",
    "        model.add(Conv2D(32, (3, 3), activation='relu'))\n",
    "        #model.add(Dropout(0.2))\n",
    "        model.add(Flatten())\n",
    "        model.add(Dense(4))\n",
    "        \n",
    "        model.compile(sgd(lr=lr, decay=1e-4, momentum=0.0), \"mse\")\n",
    "        self.model = model\n",
    "        "
   ]
  },
  {
   "cell_type": "code",
   "execution_count": 43,
   "metadata": {
    "colab": {
     "base_uri": "https://localhost:8080/",
     "height": 1000
    },
    "colab_type": "code",
    "id": "CiMN4UBgb7Ca",
    "outputId": "6c2eb8d1-c31b-4d75-f2d3-b1ffba858aa4"
   },
   "outputs": [
    {
     "name": "stdout",
     "output_type": "stream",
     "text": [
      "Epoch 1/100\n",
      "20100/20100 [==============================] - 2s 82us/step - loss: 0.1435\n",
      "Epoch 2/100\n",
      "20100/20100 [==============================] - 1s 65us/step - loss: 0.1186\n",
      "Epoch 3/100\n",
      "20100/20100 [==============================] - 1s 64us/step - loss: 0.1090\n",
      "Epoch 4/100\n",
      "20100/20100 [==============================] - 1s 62us/step - loss: 0.1028\n",
      "Epoch 5/100\n",
      "20100/20100 [==============================] - 1s 63us/step - loss: 0.0983\n",
      "Epoch 6/100\n",
      "20100/20100 [==============================] - 1s 63us/step - loss: 0.0950\n",
      "Epoch 7/100\n",
      "20100/20100 [==============================] - 1s 65us/step - loss: 0.0923\n",
      "Epoch 8/100\n",
      "20100/20100 [==============================] - 1s 63us/step - loss: 0.0902\n",
      "Epoch 9/100\n",
      "20100/20100 [==============================] - 1s 65us/step - loss: 0.0882\n",
      "Epoch 10/100\n",
      "20100/20100 [==============================] - 1s 64us/step - loss: 0.0866\n",
      "Epoch 11/100\n",
      "20100/20100 [==============================] - 1s 63us/step - loss: 0.0853\n",
      "Epoch 12/100\n",
      "20100/20100 [==============================] - 1s 62us/step - loss: 0.0841\n",
      "Epoch 13/100\n",
      "20100/20100 [==============================] - 1s 63us/step - loss: 0.0829\n",
      "Epoch 14/100\n",
      "20100/20100 [==============================] - 1s 64us/step - loss: 0.0818\n",
      "Epoch 15/100\n",
      "20100/20100 [==============================] - 1s 63us/step - loss: 0.0812\n",
      "Epoch 16/100\n",
      "20100/20100 [==============================] - 1s 62us/step - loss: 0.0802\n",
      "Epoch 17/100\n",
      "20100/20100 [==============================] - 1s 60us/step - loss: 0.0794\n",
      "Epoch 18/100\n",
      "20100/20100 [==============================] - 1s 61us/step - loss: 0.0785\n",
      "Epoch 19/100\n",
      "20100/20100 [==============================] - 1s 63us/step - loss: 0.0781\n",
      "Epoch 20/100\n",
      "20100/20100 [==============================] - 1s 63us/step - loss: 0.0774\n",
      "Epoch 21/100\n",
      "20100/20100 [==============================] - 1s 63us/step - loss: 0.0766\n",
      "Epoch 22/100\n",
      "20100/20100 [==============================] - 1s 67us/step - loss: 0.0761\n",
      "Epoch 23/100\n",
      "20100/20100 [==============================] - 1s 64us/step - loss: 0.0756\n",
      "Epoch 24/100\n",
      "20100/20100 [==============================] - 1s 66us/step - loss: 0.0751\n",
      "Epoch 25/100\n",
      "20100/20100 [==============================] - 1s 67us/step - loss: 0.0745\n",
      "Epoch 26/100\n",
      "20100/20100 [==============================] - 1s 65us/step - loss: 0.0740\n",
      "Epoch 27/100\n",
      "20100/20100 [==============================] - 1s 63us/step - loss: 0.0735\n",
      "Epoch 28/100\n",
      "20100/20100 [==============================] - 1s 61us/step - loss: 0.0731\n",
      "Epoch 29/100\n",
      "20100/20100 [==============================] - 1s 61us/step - loss: 0.0728\n",
      "Epoch 30/100\n",
      "20100/20100 [==============================] - 1s 63us/step - loss: 0.0723\n",
      "Epoch 31/100\n",
      "20100/20100 [==============================] - 1s 62us/step - loss: 0.0719\n",
      "Epoch 32/100\n",
      "20100/20100 [==============================] - 1s 63us/step - loss: 0.0716\n",
      "Epoch 33/100\n",
      "20100/20100 [==============================] - 1s 62us/step - loss: 0.0712\n",
      "Epoch 34/100\n",
      "20100/20100 [==============================] - 1s 62us/step - loss: 0.0707\n",
      "Epoch 35/100\n",
      "20100/20100 [==============================] - 1s 61us/step - loss: 0.0705\n",
      "Epoch 36/100\n",
      "20100/20100 [==============================] - 1s 62us/step - loss: 0.0702\n",
      "Epoch 37/100\n",
      "20100/20100 [==============================] - 1s 63us/step - loss: 0.0698\n",
      "Epoch 38/100\n",
      "20100/20100 [==============================] - 1s 64us/step - loss: 0.0695\n",
      "Epoch 39/100\n",
      "20100/20100 [==============================] - 1s 62us/step - loss: 0.0692\n",
      "Epoch 40/100\n",
      "20100/20100 [==============================] - 1s 61us/step - loss: 0.0690\n",
      "Epoch 41/100\n",
      "20100/20100 [==============================] - 1s 61us/step - loss: 0.0687\n",
      "Epoch 42/100\n",
      "20100/20100 [==============================] - 1s 61us/step - loss: 0.0685\n",
      "Epoch 43/100\n",
      "20100/20100 [==============================] - 1s 61us/step - loss: 0.0682\n",
      "Epoch 44/100\n",
      "20100/20100 [==============================] - 1s 61us/step - loss: 0.0679\n",
      "Epoch 45/100\n",
      "20100/20100 [==============================] - 1s 64us/step - loss: 0.0676\n",
      "Epoch 46/100\n",
      "20100/20100 [==============================] - 1s 61us/step - loss: 0.0674\n",
      "Epoch 47/100\n",
      "20100/20100 [==============================] - 1s 62us/step - loss: 0.0673\n",
      "Epoch 48/100\n",
      "20100/20100 [==============================] - 1s 63us/step - loss: 0.0670\n",
      "Epoch 49/100\n",
      "20100/20100 [==============================] - 1s 63us/step - loss: 0.0669\n",
      "Epoch 50/100\n",
      "20100/20100 [==============================] - 1s 64us/step - loss: 0.0666\n",
      "Epoch 51/100\n",
      "20100/20100 [==============================] - 1s 62us/step - loss: 0.0664\n",
      "Epoch 52/100\n",
      "20100/20100 [==============================] - 1s 61us/step - loss: 0.0661\n",
      "Epoch 53/100\n",
      "20100/20100 [==============================] - 1s 62us/step - loss: 0.0660\n",
      "Epoch 54/100\n",
      "20100/20100 [==============================] - 1s 65us/step - loss: 0.0658\n",
      "Epoch 55/100\n",
      "20100/20100 [==============================] - 1s 63us/step - loss: 0.0656\n",
      "Epoch 56/100\n",
      "20100/20100 [==============================] - 1s 63us/step - loss: 0.0653\n",
      "Epoch 57/100\n",
      "20100/20100 [==============================] - 1s 63us/step - loss: 0.0652\n",
      "Epoch 58/100\n",
      "20100/20100 [==============================] - 1s 63us/step - loss: 0.0650\n",
      "Epoch 59/100\n",
      "20100/20100 [==============================] - 1s 62us/step - loss: 0.0648\n",
      "Epoch 60/100\n",
      "20100/20100 [==============================] - 1s 63us/step - loss: 0.0647\n",
      "Epoch 61/100\n",
      "20100/20100 [==============================] - 1s 64us/step - loss: 0.0646\n",
      "Epoch 62/100\n",
      "20100/20100 [==============================] - 1s 63us/step - loss: 0.0644\n",
      "Epoch 63/100\n",
      "20100/20100 [==============================] - 1s 65us/step - loss: 0.0642\n",
      "Epoch 64/100\n",
      "20100/20100 [==============================] - 1s 66us/step - loss: 0.0640\n",
      "Epoch 65/100\n",
      "20100/20100 [==============================] - 1s 60us/step - loss: 0.0638\n",
      "Epoch 66/100\n",
      "20100/20100 [==============================] - 1s 62us/step - loss: 0.0638\n",
      "Epoch 67/100\n",
      "20100/20100 [==============================] - 1s 63us/step - loss: 0.0636\n",
      "Epoch 68/100\n",
      "20100/20100 [==============================] - 1s 62us/step - loss: 0.0634\n",
      "Epoch 69/100\n",
      "20100/20100 [==============================] - 1s 63us/step - loss: 0.0633\n",
      "Epoch 70/100\n",
      "20100/20100 [==============================] - 1s 62us/step - loss: 0.0632\n",
      "Epoch 71/100\n",
      "20100/20100 [==============================] - 1s 63us/step - loss: 0.0630\n",
      "Epoch 72/100\n",
      "20100/20100 [==============================] - 1s 63us/step - loss: 0.0629\n",
      "Epoch 73/100\n",
      "20100/20100 [==============================] - 1s 63us/step - loss: 0.0628\n",
      "Epoch 74/100\n",
      "20100/20100 [==============================] - 1s 64us/step - loss: 0.0626\n",
      "Epoch 75/100\n",
      "20100/20100 [==============================] - 1s 62us/step - loss: 0.0625\n",
      "Epoch 76/100\n",
      "20100/20100 [==============================] - 1s 61us/step - loss: 0.0625\n",
      "Epoch 77/100\n",
      "20100/20100 [==============================] - 1s 62us/step - loss: 0.0623\n",
      "Epoch 78/100\n",
      "20100/20100 [==============================] - 1s 62us/step - loss: 0.0622\n",
      "Epoch 79/100\n",
      "20100/20100 [==============================] - 1s 65us/step - loss: 0.0620\n",
      "Epoch 80/100\n",
      "20100/20100 [==============================] - 1s 63us/step - loss: 0.0620\n",
      "Epoch 81/100\n",
      "20100/20100 [==============================] - 1s 63us/step - loss: 0.0618\n",
      "Epoch 82/100\n",
      "20100/20100 [==============================] - 1s 63us/step - loss: 0.0617\n",
      "Epoch 83/100\n",
      "20100/20100 [==============================] - 1s 61us/step - loss: 0.0617\n",
      "Epoch 84/100\n",
      "20100/20100 [==============================] - 1s 63us/step - loss: 0.0615\n",
      "Epoch 85/100\n",
      "20100/20100 [==============================] - 1s 62us/step - loss: 0.0614\n",
      "Epoch 86/100\n",
      "20100/20100 [==============================] - 1s 61us/step - loss: 0.0613\n",
      "Epoch 87/100\n",
      "20100/20100 [==============================] - 1s 62us/step - loss: 0.0612\n",
      "Epoch 88/100\n",
      "20100/20100 [==============================] - 1s 61us/step - loss: 0.0611\n",
      "Epoch 89/100\n",
      "20100/20100 [==============================] - 1s 61us/step - loss: 0.0609\n",
      "Epoch 90/100\n",
      "20100/20100 [==============================] - 1s 60us/step - loss: 0.0610\n",
      "Epoch 91/100\n",
      "20100/20100 [==============================] - 1s 62us/step - loss: 0.0608\n",
      "Epoch 92/100\n",
      "20100/20100 [==============================] - 1s 62us/step - loss: 0.0607\n",
      "Epoch 93/100\n",
      "20100/20100 [==============================] - 1s 63us/step - loss: 0.0606\n",
      "Epoch 94/100\n",
      "20100/20100 [==============================] - 1s 60us/step - loss: 0.0605\n",
      "Epoch 95/100\n",
      "20100/20100 [==============================] - 1s 62us/step - loss: 0.0604\n",
      "Epoch 96/100\n",
      "20100/20100 [==============================] - 1s 64us/step - loss: 0.0605\n",
      "Epoch 97/100\n",
      "20100/20100 [==============================] - 1s 63us/step - loss: 0.0602\n",
      "Epoch 98/100\n",
      "20100/20100 [==============================] - 1s 65us/step - loss: 0.0602\n",
      "Epoch 99/100\n",
      "20100/20100 [==============================] - 1s 63us/step - loss: 0.0601\n",
      "Epoch 100/100\n",
      "20100/20100 [==============================] - 1s 62us/step - loss: 0.0600\n"
     ]
    }
   ],
   "source": [
    "# Training\n",
    "env = EnvironmentExploring(grid_size=size, max_time=T, temperature=0.3)\n",
    "agent_copycat = copycat(size, lr=.1, epsilon = 0.0, memory_size=2000, batch_size = 32,n_state=3)\n",
    "agent_copycat.model.fit(states,keras.utils.to_categorical(actions),epochs=100)\n",
    "agent_copycat.save(name_weights='copycat_model.h5',name_model='copycat_model.json')"
   ]
  },
  {
   "cell_type": "code",
   "execution_count": 44,
   "metadata": {
    "colab": {
     "base_uri": "https://localhost:8080/",
     "height": 898
    },
    "colab_type": "code",
    "id": "POQyF_POctaW",
    "outputId": "11a7d064-e68e-4b6b-d84e-691b36a5650f"
   },
   "outputs": [
    {
     "name": "stdout",
     "output_type": "stream",
     "text": [
      "Win/lose count 7.5/0.0. Average score (7.5)\n",
      "Win/lose count 3.5/1.0. Average score (5.0)\n",
      "Win/lose count 6.5/1.0. Average score (5.166666666666667)\n",
      "Win/lose count 18.5/2.0. Average score (8.0)\n",
      "Win/lose count 6.0/0.0. Average score (7.6)\n",
      "Win/lose count 6.5/0.0. Average score (7.416666666666667)\n",
      "Win/lose count 1.0/0.0. Average score (6.5)\n",
      "Win/lose count 3.0/0.0. Average score (6.0625)\n",
      "Win/lose count 21.0/0.0. Average score (7.722222222222222)\n",
      "Win/lose count 9.0/1.0. Average score (7.75)\n",
      "Win/lose count 2.5/0.0. Average score (7.2727272727272725)\n",
      "Win/lose count 9.5/0.0. Average score (7.458333333333333)\n",
      "Win/lose count 4.5/0.0. Average score (7.230769230769231)\n",
      "Win/lose count 3.0/0.0. Average score (6.928571428571429)\n",
      "Win/lose count 5.5/0.0. Average score (6.833333333333333)\n",
      "Win/lose count 9.0/0.0. Average score (6.96875)\n",
      "Win/lose count 6.5/0.0. Average score (6.9411764705882355)\n",
      "Win/lose count 2.0/1.0. Average score (6.611111111111111)\n",
      "Win/lose count 7.0/0.0. Average score (6.631578947368421)\n",
      "Win/lose count 4.5/0.0. Average score (6.525)\n",
      "Win/lose count 10.5/0.0. Average score (6.714285714285714)\n",
      "Win/lose count 3.5/0.0. Average score (6.568181818181818)\n",
      "Win/lose count 15.5/0.0. Average score (6.956521739130435)\n",
      "Win/lose count 5.5/0.0. Average score (6.895833333333333)\n",
      "Win/lose count 13.0/1.0. Average score (7.1)\n",
      "Win/lose count 12.0/0.0. Average score (7.288461538461538)\n",
      "Win/lose count 3.5/0.0. Average score (7.148148148148148)\n",
      "Win/lose count 9.5/0.0. Average score (7.232142857142857)\n",
      "Win/lose count 9.0/0.0. Average score (7.293103448275862)\n",
      "Win/lose count 1.0/0.0. Average score (7.083333333333333)\n",
      "Win/lose count 14.0/0.0. Average score (7.306451612903226)\n",
      "Win/lose count 2.5/0.0. Average score (7.15625)\n",
      "Win/lose count 3.5/0.0. Average score (7.045454545454546)\n",
      "Win/lose count 6.5/0.0. Average score (7.029411764705882)\n",
      "Win/lose count 2.5/0.0. Average score (6.9)\n",
      "Win/lose count 12.0/0.0. Average score (7.041666666666667)\n",
      "Win/lose count 1.0/0.0. Average score (6.878378378378378)\n",
      "Win/lose count 6.0/1.0. Average score (6.828947368421052)\n",
      "Win/lose count 19.5/0.0. Average score (7.153846153846154)\n",
      "Win/lose count 6.0/1.0. Average score (7.1)\n",
      "Win/lose count 21.0/1.0. Average score (7.414634146341464)\n",
      "Win/lose count 5.0/0.0. Average score (7.357142857142857)\n",
      "Win/lose count 6.5/1.0. Average score (7.313953488372093)\n",
      "Win/lose count 6.5/1.0. Average score (7.2727272727272725)\n",
      "Win/lose count 19.0/0.0. Average score (7.533333333333333)\n",
      "Win/lose count 10.5/0.0. Average score (7.5978260869565215)\n",
      "Win/lose count 15.0/1.0. Average score (7.73404255319149)\n",
      "Win/lose count 6.5/0.0. Average score (7.708333333333333)\n",
      "Win/lose count 6.5/1.0. Average score (7.663265306122449)\n",
      "Win/lose count 5.5/0.0. Average score (7.62)\n",
      "Final score: 7.62\n"
     ]
    }
   ],
   "source": [
    "agent_copycat.load(name_weights='copycat_model.h5',name_model='copycat_model.json')\n",
    "test(agent_copycat,env,epochs_test,prefix='copycat_test')"
   ]
  },
  {
   "cell_type": "markdown",
   "metadata": {
    "colab_type": "text",
    "id": "LsPy3jMKBkdN"
   },
   "source": [
    "> The copycat agent mimit perfectly the expert agent, and they get similar results"
   ]
  }
 ],
 "metadata": {
  "colab": {
   "collapsed_sections": [],
   "name": "DQN_project_MVA_MOUKADIRI",
   "provenance": []
  },
  "kernelspec": {
   "display_name": "Python 3",
   "language": "python",
   "name": "python3"
  },
  "language_info": {
   "codemirror_mode": {
    "name": "ipython",
    "version": 3
   },
   "file_extension": ".py",
   "mimetype": "text/x-python",
   "name": "python",
   "nbconvert_exporter": "python",
   "pygments_lexer": "ipython3",
   "version": "3.7.4"
  }
 },
 "nbformat": 4,
 "nbformat_minor": 1
}
